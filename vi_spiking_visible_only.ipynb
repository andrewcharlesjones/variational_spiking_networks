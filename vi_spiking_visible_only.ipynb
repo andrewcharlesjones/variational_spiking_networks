{
 "cells": [
  {
   "cell_type": "code",
   "execution_count": 1,
   "metadata": {},
   "outputs": [],
   "source": [
    "import numpy as np\n",
    "import matplotlib.pyplot as plt\n",
    "import seaborn as sns\n",
    "from sklearn.decomposition import PCA\n",
    "import statsmodels.api as sm\n",
    "import pandas as pd\n",
    "from scipy import optimize"
   ]
  },
  {
   "cell_type": "code",
   "execution_count": 26,
   "metadata": {},
   "outputs": [],
   "source": [
    "tau = 10.\n",
    "eta_0 = 0.1\n",
    "tau_adapt = 10.\n",
    "rho_0 = 0.5\n",
    "v = 0\n",
    "delta_u = 1.\n",
    "mu_M = 0.00001\n",
    "mu_Q = 0.00001\n",
    "tau_G = 10.\n",
    "tau_baseline = 100.\n",
    "dt = 1."
   ]
  },
  {
   "cell_type": "code",
   "execution_count": 84,
   "metadata": {},
   "outputs": [],
   "source": [
    "num_neurons = 9\n",
    "num_timebins = 1000\n",
    "\n",
    "weights = np.random.normal(loc = 0, scale = 0.1, size = (num_neurons, num_neurons))\n",
    "# weights = np.array(\n",
    "#     [[0, 0.1],\n",
    "#     [0, 0]]\n",
    "# )\n",
    "# weights = np.ones((num_neurons, num_neurons))\n",
    "np.fill_diagonal(weights, 0)\n",
    "phi = np.zeros(shape = (num_neurons, num_timebins))\n",
    "rho = np.zeros(shape = (num_neurons, num_timebins))\n",
    "eta = np.zeros(shape = (num_neurons, num_timebins))\n",
    "u = np.zeros(shape = (num_neurons, num_timebins))\n",
    "spikes = np.zeros(shape = (num_neurons, num_timebins))\n",
    "spike_probs = np.zeros(shape = (num_neurons, num_timebins))\n",
    "\n",
    "# phi[:, 0] = np.random.normal(loc = 0.0, scale = 0.1, size = num_neurons)\n",
    "phi[:, 0] = np.zeros(num_neurons)\n",
    "# eta[:, 0] = np.random.normal(loc = 0.0, scale = 0.1, size = num_neurons)\n",
    "eta[:, 0] = np.zeros(num_neurons)\n",
    "u[:, 0] = np.matmul(weights, phi[:, 0]) - eta[:, 0]\n",
    "rho[:, 0] = rho_0 * np.exp(u[:, 0])\n",
    "spike_probs[:, 0] = 1-np.exp(-rho[:, 0])\n",
    "spikes[:, 0] = np.random.binomial(n = 1, p = spike_probs[:, 0])\n",
    "\n"
   ]
  },
  {
   "cell_type": "code",
   "execution_count": null,
   "metadata": {},
   "outputs": [],
   "source": []
  },
  {
   "cell_type": "code",
   "execution_count": 85,
   "metadata": {},
   "outputs": [],
   "source": [
    "# random spikes\n",
    "\n",
    "for tt in range(1, num_timebins):\n",
    "                \n",
    "    dphi = dt * (1 / tau) * (spikes[:, tt - 1] - phi[:, tt - 1])\n",
    "    deta = dt * (1 / tau_adapt) * (spikes[:, tt - 1] - eta[:, tt - 1])\n",
    "\n",
    "    phi[:, tt] = phi[:, tt - 1] + dphi\n",
    "    eta[:, tt] = eta[:, tt - 1] + deta\n",
    "\n",
    "    total_potential = np.matmul(weights, phi[:, tt]) - eta_0 * eta[:, tt]\n",
    "    u[:, tt] = total_potential\n",
    "\n",
    "    rho[:, tt] = rho_0 * np.exp((u[:, tt] - v) / delta_u)\n",
    "\n",
    "#         spikes[:, tt] = np.random.poisson(rho[:, tt])\n",
    "    spike_probs[:, tt] = 1-np.exp(-dt*rho[:, tt])\n",
    "    spikes[:, tt] = np.random.binomial(n = 1, p = spike_probs[:, tt])"
   ]
  },
  {
   "cell_type": "code",
   "execution_count": 86,
   "metadata": {},
   "outputs": [],
   "source": [
    "gaussian_intervals = np.random.normal(size = 100, loc=100, scale=10).astype(int)"
   ]
  },
  {
   "cell_type": "code",
   "execution_count": null,
   "metadata": {},
   "outputs": [],
   "source": []
  },
  {
   "cell_type": "code",
   "execution_count": 87,
   "metadata": {},
   "outputs": [],
   "source": [
    "## staircase pattern\n",
    "neuron_block_size = np.floor(num_neurons / 3)\n",
    "curr_neuron_block = 0\n",
    "interval_idx = 0\n",
    "timebin_counter = 0\n",
    "\n",
    "spikes[int(curr_neuron_block * neuron_block_size):int((curr_neuron_block + 1) * neuron_block_size), 0] = 1\n",
    "    \n",
    "for tt in range(1, num_timebins):\n",
    "                \n",
    "    dphi = dt * (1 / tau) * (spikes[:, tt - 1] - phi[:, tt - 1])\n",
    "    deta = dt * (1 / tau_adapt) * (spikes[:, tt - 1] - eta[:, tt - 1])\n",
    "\n",
    "    phi[:, tt] = phi[:, tt - 1] + dphi\n",
    "    eta[:, tt] = eta[:, tt - 1] + deta\n",
    "\n",
    "    total_potential = np.matmul(weights, phi[:, tt]) - eta_0 * eta[:, tt]\n",
    "    u[:, tt] = total_potential\n",
    "\n",
    "    rho[:, tt] = rho_0 * np.exp((u[:, tt] - v) / delta_u)\n",
    "    \n",
    "    rho[int(curr_neuron_block * neuron_block_size):int((curr_neuron_block + 1) * neuron_block_size), tt] += 10.0\n",
    "    nonblock_idx = np.delete(np.arange(num_neurons), np.arange(int(curr_neuron_block * neuron_block_size), int((curr_neuron_block + 1) * neuron_block_size)))\n",
    "    rho[nonblock_idx, tt] = 0.05\n",
    "\n",
    "\n",
    "#         spikes[:, tt] = np.random.poisson(rho[:, tt])\n",
    "    spike_probs[:, tt] = 1-np.exp(-dt*rho[:, tt])\n",
    "    spikes[:, tt] = np.random.binomial(n = 1, p = spike_probs[:, tt])\n",
    "    \n",
    "    \n",
    "    \n",
    "        \n",
    "    timebin_counter += 1\n",
    "    if timebin_counter == gaussian_intervals[interval_idx]:\n",
    "        interval_idx += 1\n",
    "        timebin_counter = 0\n",
    "        if curr_neuron_block < 2:\n",
    "            curr_neuron_block += 1\n",
    "        else:\n",
    "            curr_neuron_block = 0"
   ]
  },
  {
   "cell_type": "code",
   "execution_count": null,
   "metadata": {},
   "outputs": [],
   "source": []
  },
  {
   "cell_type": "code",
   "execution_count": 88,
   "metadata": {},
   "outputs": [
    {
     "data": {
      "text/plain": [
       "<matplotlib.text.Text at 0x11d4e9750>"
      ]
     },
     "execution_count": 88,
     "metadata": {},
     "output_type": "execute_result"
    },
    {
     "data": {
      "image/png": "[encoded data removed]",
      "text/plain": [
       "<matplotlib.figure.Figure at 0x11d4bda50>"
      ]
     },
     "metadata": {
      "needs_background": "light"
     },
     "output_type": "display_data"
    }
   ],
   "source": [
    "fig, ax = plt.subplots(figsize=(20, 3))\n",
    "sns.heatmap(spikes)\n",
    "plt.xlabel(\"timestep\")\n",
    "plt.ylabel(\"neuron index\")"
   ]
  },
  {
   "cell_type": "code",
   "execution_count": 89,
   "metadata": {},
   "outputs": [],
   "source": [
    "def log_likelihood(curr_weights):\n",
    "\n",
    "#     total_potential = np.matmul(curr_weights, phi) - eta_0 * eta[0, :]\n",
    "\n",
    "#     rho[0, :] = rho_0 * np.exp((total_potential - v) / delta_u)\n",
    "#     LL = np.sum(np.multiply(np.log(rho[0, :]), spikes[0, :]) - rho[0, :]) * dt\n",
    "\n",
    "    curr_weights = np.reshape(curr_weights, [num_neurons, num_neurons])\n",
    "\n",
    "    total_potential = np.matmul(curr_weights, phi) - eta_0 * eta\n",
    "\n",
    "    rho = rho_0 * np.exp((total_potential - v) / delta_u)\n",
    "    LL = np.sum(np.multiply(np.log(rho), spikes) - rho) * dt\n",
    "\n",
    "    return -LL"
   ]
  },
  {
   "cell_type": "code",
   "execution_count": null,
   "metadata": {},
   "outputs": [],
   "source": []
  },
  {
   "cell_type": "code",
   "execution_count": 90,
   "metadata": {},
   "outputs": [
    {
     "name": "stdout",
     "output_type": "stream",
     "text": [
      "Warning: Desired error not necessarily achieved due to precision loss.\n",
      "         Current function value: 4647.600174\n",
      "         Iterations: 104\n",
      "         Function evaluations: 11289\n",
      "         Gradient evaluations: 136\n"
     ]
    }
   ],
   "source": [
    "# x0 = np.random.normal(loc=0, scale=0.1, size=num_neurons)\n",
    "x0 = np.random.normal(loc=0, scale=0.1, size=num_neurons*num_neurons)\n",
    "res = optimize.minimize(log_likelihood, x0, options={'disp': True}, tol=1e-5)"
   ]
  },
  {
   "cell_type": "code",
   "execution_count": 91,
   "metadata": {},
   "outputs": [
    {
     "data": {
      "text/plain": [
       "4647.60017367129"
      ]
     },
     "execution_count": 91,
     "metadata": {},
     "output_type": "execute_result"
    }
   ],
   "source": [
    "log_likelihood(res.x)"
   ]
  },
  {
   "cell_type": "code",
   "execution_count": null,
   "metadata": {},
   "outputs": [],
   "source": []
  },
  {
   "cell_type": "code",
   "execution_count": 92,
   "metadata": {
    "scrolled": true
   },
   "outputs": [
    {
     "name": "stdout",
     "output_type": "stream",
     "text": [
      "7030.76602285372\n",
      "4654.3832954390855\n",
      "4650.038997554703\n",
      "4648.5521862112655\n",
      "4647.988472993341\n",
      "4647.764811103069\n",
      "4647.672673518693\n",
      "4647.633307776208\n",
      "4647.615861523301\n",
      "4647.607844297692\n",
      "4647.604030660033\n",
      "4647.602158778008\n",
      "4647.601214667052\n",
      "4647.600727617628\n"
     ]
    }
   ],
   "source": [
    "## Take gradient of M network LL wrt M weights and update M weights\n",
    "from autograd import grad\n",
    "import autograd.numpy as np\n",
    "\n",
    "x0 = np.random.normal(loc=0, scale=0.1, size=[num_neurons, num_neurons])\n",
    "learned_weights = x0\n",
    "grad_LL = grad(log_likelihood)\n",
    "\n",
    "# from autograd.misc.optimizers import adam\n",
    "# optimized_params = adam(grad_LL, x0, step_size=mu_M, num_iters=5000)\n",
    "\n",
    "\n",
    "for inum in range(40000):\n",
    "    curr_LL = log_likelihood(learned_weights)\n",
    "    M_weights_gradients = grad_LL(learned_weights)\n",
    "\n",
    "    learned_weights -= 0.001 * M_weights_gradients\n",
    "    if inum % 3000 == 0:\n",
    "        print curr_LL"
   ]
  },
  {
   "cell_type": "code",
   "execution_count": 94,
   "metadata": {},
   "outputs": [
    {
     "data": {
      "text/plain": [
       "<matplotlib.axes._subplots.AxesSubplot at 0x117223e10>"
      ]
     },
     "execution_count": 94,
     "metadata": {},
     "output_type": "execute_result"
    },
    {
     "data": {
      "image/png": "[encoded data removed]",
      "text/plain": [
       "<matplotlib.figure.Figure at 0x11d53f9d0>"
      ]
     },
     "metadata": {
      "needs_background": "light"
     },
     "output_type": "display_data"
    }
   ],
   "source": [
    "sns.heatmap(np.reshape(res.x, [num_neurons, num_neurons]))\n",
    "# sns.heatmap(learned_weights)"
   ]
  },
  {
   "cell_type": "code",
   "execution_count": 95,
   "metadata": {},
   "outputs": [
    {
     "name": "stdout",
     "output_type": "stream",
     "text": [
      "285.21772966658415\n",
      "283.9326090944503\n",
      "0.008845816279310638\n"
     ]
    }
   ],
   "source": [
    "print np.sum((np.reshape(res.x, [num_neurons, num_neurons]) - weights)**2)\n",
    "print np.sum((learned_weights - weights)**2)\n",
    "print np.sum((learned_weights - np.reshape(res.x, [num_neurons, num_neurons]))**2)"
   ]
  },
  {
   "cell_type": "code",
   "execution_count": 96,
   "metadata": {},
   "outputs": [],
   "source": [
    "# learned_weights = np.reshape(res.x, [num_neurons, num_neurons])\n",
    "# spikes[int(curr_neuron_block * neuron_block_size):int((curr_neuron_block + 1) * neuron_block_size), 0] = 1\n",
    "\n",
    "\n",
    "for tt in range(1, num_timebins):\n",
    "                \n",
    "    dphi = dt * (1 / tau) * (spikes[:, tt - 1] - phi[:, tt - 1])\n",
    "    deta = dt * (1 / tau_adapt) * (spikes[:, tt - 1] - eta[:, tt - 1])\n",
    "\n",
    "    phi[:, tt] = phi[:, tt - 1] + dphi\n",
    "    eta[:, tt] = eta[:, tt - 1] + deta\n",
    "\n",
    "    total_potential = np.matmul(learned_weights, phi[:, tt]) - eta_0 * eta[:, tt]\n",
    "    \n",
    "    u[:, tt] = total_potential\n",
    "\n",
    "    rho[:, tt] = rho_0 * np.exp((u[:, tt] - v) / delta_u)\n",
    "\n",
    "#         spikes[:, tt] = np.random.poisson(rho[:, tt])\n",
    "    spike_probs[:, tt] = 1-np.exp(-dt*rho[:, tt])\n",
    "    spikes[:, tt] = np.random.binomial(n = 1, p = spike_probs[:, tt])"
   ]
  },
  {
   "cell_type": "code",
   "execution_count": 97,
   "metadata": {},
   "outputs": [
    {
     "data": {
      "text/plain": [
       "<matplotlib.text.Text at 0x11d2ea210>"
      ]
     },
     "execution_count": 97,
     "metadata": {},
     "output_type": "execute_result"
    },
    {
     "data": {
      "image/png": "[encoded data removed]",
      "text/plain": [
       "<matplotlib.figure.Figure at 0x116f53cd0>"
      ]
     },
     "metadata": {
      "needs_background": "light"
     },
     "output_type": "display_data"
    }
   ],
   "source": [
    "fig, ax = plt.subplots(figsize=(20, 3))\n",
    "sns.heatmap(spikes[:, :500])\n",
    "plt.xlabel(\"timestep\")\n",
    "plt.ylabel(\"neuron index\")"
   ]
  },
  {
   "cell_type": "code",
   "execution_count": null,
   "metadata": {},
   "outputs": [],
   "source": []
  },
  {
   "cell_type": "code",
   "execution_count": null,
   "metadata": {},
   "outputs": [],
   "source": []
  },
  {
   "cell_type": "code",
   "execution_count": null,
   "metadata": {},
   "outputs": [],
   "source": []
  },
  {
   "cell_type": "code",
   "execution_count": null,
   "metadata": {},
   "outputs": [],
   "source": []
  },
  {
   "cell_type": "code",
   "execution_count": null,
   "metadata": {},
   "outputs": [],
   "source": []
  },
  {
   "cell_type": "code",
   "execution_count": null,
   "metadata": {},
   "outputs": [],
   "source": []
  },
  {
   "cell_type": "code",
   "execution_count": null,
   "metadata": {},
   "outputs": [],
   "source": []
  },
  {
   "cell_type": "code",
   "execution_count": null,
   "metadata": {},
   "outputs": [],
   "source": []
  }
 ],
 "metadata": {
  "kernelspec": {
   "display_name": "Python 2",
   "language": "python",
   "name": "python2"
  },
  "language_info": {
   "codemirror_mode": {
    "name": "ipython",
    "version": 2
   },
   "file_extension": ".py",
   "mimetype": "text/x-python",
   "name": "python",
   "nbconvert_exporter": "python",
   "pygments_lexer": "ipython2",
   "version": "2.7.13"
  }
 },
 "nbformat": 4,
 "nbformat_minor": 2
}
