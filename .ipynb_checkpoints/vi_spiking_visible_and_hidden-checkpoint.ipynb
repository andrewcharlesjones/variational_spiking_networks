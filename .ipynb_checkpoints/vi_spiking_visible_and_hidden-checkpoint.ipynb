{
 "cells": [
  {
   "cell_type": "code",
   "execution_count": 3,
   "metadata": {},
   "outputs": [],
   "source": [
    "import numpy as np\n",
    "import matplotlib.pyplot as plt\n",
    "import seaborn as sns\n",
    "from sklearn.decomposition import PCA\n",
    "import statsmodels.api as sm\n",
    "import pandas as pd\n",
    "from scipy import optimize"
   ]
  },
  {
   "cell_type": "code",
   "execution_count": 4,
   "metadata": {},
   "outputs": [],
   "source": [
    "tau = 10.\n",
    "eta_0 = 0.1\n",
    "tau_adapt = 10.\n",
    "rho_0 = 0.5\n",
    "v = 0\n",
    "delta_u = 1.\n",
    "mu_M = 0.00001\n",
    "mu_Q = 0.00001\n",
    "tau_G = 10.\n",
    "tau_baseline = 100.\n",
    "dt = 1."
   ]
  },
  {
   "cell_type": "code",
   "execution_count": 5,
   "metadata": {},
   "outputs": [],
   "source": [
    "num_visible = 30\n",
    "num_hidden = 30\n",
    "num_neurons = num_visible + num_hidden\n",
    "num_timebins = 1000\n",
    "\n",
    "weights_M = np.random.normal(loc = 0, scale = 0.1, size = (num_neurons, num_neurons))\n",
    "np.fill_diagonal(weights_M, 0)\n",
    "\n",
    "weights_Q = np.random.normal(loc = 0, scale = 0.1, size = (num_neurons, num_neurons))\n",
    "np.fill_diagonal(weights_Q, 0)\n",
    "\n",
    "# no connections from visible->visible or hidden->visible in Q weights (top half of matrix)\n",
    "weights_Q[:num_visible, :] = 0\n",
    "\n",
    "phi = np.zeros(shape = (num_neurons, num_timebins))\n",
    "rho = np.zeros(shape = (num_neurons, num_timebins))\n",
    "eta = np.zeros(shape = (num_neurons, num_timebins))\n",
    "u = np.zeros(shape = (num_neurons, num_timebins))\n",
    "spikes = np.zeros(shape = (num_neurons, num_timebins))\n",
    "spike_probs = np.zeros(shape = (num_neurons, num_timebins))\n",
    "\n",
    "# phi[:, 0] = np.random.normal(loc = 0.0, scale = 0.1, size = num_neurons)\n",
    "phi[:, 0] = np.zeros(num_neurons)\n",
    "# eta[:, 0] = np.random.normal(loc = 0.0, scale = 0.1, size = num_neurons)\n",
    "eta[:, 0] = np.zeros(num_neurons)\n",
    "u[:, 0] = np.matmul(weights_M, phi[:, 0]) - eta[:, 0]\n",
    "rho[:, 0] = rho_0 * np.exp(u[:, 0])\n",
    "spike_probs[:, 0] = 1-np.exp(-rho[:, 0])\n",
    "spikes[:, 0] = np.random.binomial(n = 1, p = spike_probs[:, 0])\n",
    "\n"
   ]
  },
  {
   "cell_type": "code",
   "execution_count": null,
   "metadata": {},
   "outputs": [],
   "source": []
  },
  {
   "cell_type": "code",
   "execution_count": 6,
   "metadata": {},
   "outputs": [],
   "source": [
    "\n",
    "for tt in range(1, num_timebins):\n",
    "        \n",
    "    for ii in range(num_neurons):\n",
    "        \n",
    "        dphi = dt * (1 / tau) * (spikes[:, tt - 1] - phi[:, tt - 1])\n",
    "        deta = dt * (1 / tau_adapt) * (spikes[:, tt - 1] - eta[:, tt - 1])\n",
    "        \n",
    "        phi[:, tt] = phi[:, tt - 1] + dphi\n",
    "        eta[:, tt] = eta[:, tt - 1] + deta\n",
    "        \n",
    "#         bool_array = (spikes[:, :tt] > 0).astype(int)\n",
    "#         last_spike_time = tt - (np.argmax(bool_array[:, ::-1], axis=1))\n",
    "#         s = np.ones(num_neurons) * tt - last_spike_time\n",
    "#         eta[:, tt] = np.exp(-(dt * s) / tau_adapt)\n",
    "                \n",
    "        total_potential = np.matmul(weights_M, phi[:, tt]) - eta_0 * eta[:, tt]\n",
    "        u[:, tt] = total_potential\n",
    "        \n",
    "        rho[:, tt] = rho_0 * np.exp((u[:, tt] - v) / delta_u)\n",
    "        \n",
    "#         spikes[:, tt] = np.random.poisson(rho[:, tt])\n",
    "        spike_probs[:, tt] = 1-np.exp(-dt*rho[:, tt])\n",
    "        spikes[:, tt] = np.random.binomial(n = 1, p = spike_probs[:, tt])"
   ]
  },
  {
   "cell_type": "code",
   "execution_count": 7,
   "metadata": {},
   "outputs": [
    {
     "data": {
      "text/plain": [
       "<matplotlib.text.Text at 0x1149354d0>"
      ]
     },
     "execution_count": 7,
     "metadata": {},
     "output_type": "execute_result"
    },
    {
     "data": {
      "image/png": "[encoded data removed]",
      "text/plain": [
       "<matplotlib.figure.Figure at 0x1148fe4d0>"
      ]
     },
     "metadata": {
      "needs_background": "light"
     },
     "output_type": "display_data"
    }
   ],
   "source": [
    "fig, ax = plt.subplots(figsize=(20, 7))\n",
    "sns.heatmap(spikes[:, :100])\n",
    "plt.xlabel(\"timestep\")\n",
    "plt.ylabel(\"neuron index\")"
   ]
  },
  {
   "cell_type": "code",
   "execution_count": 257,
   "metadata": {},
   "outputs": [],
   "source": [
    "def log_likelihood(curr_weights):\n",
    "\n",
    "    total_potential = np.matmul(curr_weights, phi) - eta_0 * eta[0, :]\n",
    "\n",
    "    rho[0, :] = rho_0 * np.exp((total_potential - v) / delta_u)\n",
    "    LL = np.sum(np.multiply(np.log(rho[0, :]), spikes[0, :]) - rho[0, :]) * dt\n",
    "    return -LL"
   ]
  },
  {
   "cell_type": "code",
   "execution_count": null,
   "metadata": {},
   "outputs": [],
   "source": []
  },
  {
   "cell_type": "code",
   "execution_count": 258,
   "metadata": {},
   "outputs": [
    {
     "name": "stdout",
     "output_type": "stream",
     "text": [
      "Optimization terminated successfully.\n",
      "         Current function value: 737.298201\n",
      "         Iterations: 32\n",
      "         Function evaluations: 1632\n",
      "         Gradient evaluations: 51\n"
     ]
    }
   ],
   "source": [
    "x0 = np.random.normal(loc=0, scale=0.1, size=num_neurons)\n",
    "res = optimize.minimize(log_likelihood, x0, options={'disp': True}, tol=1e-5)"
   ]
  },
  {
   "cell_type": "code",
   "execution_count": 259,
   "metadata": {},
   "outputs": [
    {
     "name": "stdout",
     "output_type": "stream",
     "text": [
      "3.7680987025153327\n"
     ]
    }
   ],
   "source": [
    "print np.sum((res.x - weights[0, :])**2)"
   ]
  },
  {
   "cell_type": "code",
   "execution_count": null,
   "metadata": {},
   "outputs": [],
   "source": []
  },
  {
   "cell_type": "code",
   "execution_count": null,
   "metadata": {},
   "outputs": [],
   "source": []
  },
  {
   "cell_type": "code",
   "execution_count": null,
   "metadata": {},
   "outputs": [],
   "source": []
  },
  {
   "cell_type": "code",
   "execution_count": null,
   "metadata": {},
   "outputs": [],
   "source": []
  }
 ],
 "metadata": {
  "kernelspec": {
   "display_name": "Python 2",
   "language": "python",
   "name": "python2"
  },
  "language_info": {
   "codemirror_mode": {
    "name": "ipython",
    "version": 2
   },
   "file_extension": ".py",
   "mimetype": "text/x-python",
   "name": "python",
   "nbconvert_exporter": "python",
   "pygments_lexer": "ipython2",
   "version": "2.7.13"
  }
 },
 "nbformat": 4,
 "nbformat_minor": 2
}
