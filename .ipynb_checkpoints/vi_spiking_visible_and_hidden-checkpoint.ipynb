{
 "cells": [
  {
   "cell_type": "code",
   "execution_count": null,
   "metadata": {},
   "outputs": [],
   "source": [
    "import numpy as np\n",
    "import matplotlib.pyplot as plt\n",
    "import seaborn as sns\n",
    "from sklearn.decomposition import PCA\n",
    "import statsmodels.api as sm\n",
    "import pandas as pd\n",
    "from scipy import optimize\n",
    "from autograd import grad"
   ]
  },
  {
   "cell_type": "code",
   "execution_count": 2,
   "metadata": {},
   "outputs": [],
   "source": [
    "tau = 10.\n",
    "eta_0 = 0.1\n",
    "tau_adapt = 10.\n",
    "rho_0 = 0.5\n",
    "v = 0\n",
    "delta_u = 1.\n",
    "mu_M = 0.00001\n",
    "mu_Q = 0.00001\n",
    "tau_G = 10.\n",
    "tau_baseline = 100.\n",
    "dt = 1."
   ]
  },
  {
   "cell_type": "code",
   "execution_count": 3,
   "metadata": {},
   "outputs": [],
   "source": [
    "num_visible = 30\n",
    "num_hidden = 30\n",
    "num_neurons = num_visible + num_hidden\n",
    "num_timebins = 1000\n",
    "\n",
    "weights_M = np.random.normal(loc = 0, scale = 0.1, size = (num_neurons, num_neurons))\n",
    "np.fill_diagonal(weights_M, 0)\n",
    "\n",
    "weights_Q = np.random.normal(loc = 0, scale = 0.1, size = (num_neurons, num_neurons))\n",
    "np.fill_diagonal(weights_Q, 0)\n",
    "\n",
    "# no connections from visible->visible or hidden->visible in Q weights (top half of matrix)\n",
    "weights_Q[:num_visible, :] = 0\n",
    "\n",
    "phi = np.zeros(shape = (num_neurons, num_timebins))\n",
    "rho = np.zeros(shape = (num_neurons, num_timebins))\n",
    "eta = np.zeros(shape = (num_neurons, num_timebins))\n",
    "u = np.zeros(shape = (num_neurons, num_timebins))\n",
    "spikes = np.zeros(shape = (num_neurons, num_timebins))\n",
    "spike_probs = np.zeros(shape = (num_neurons, num_timebins))\n",
    "\n",
    "# phi[:, 0] = np.random.normal(loc = 0.0, scale = 0.1, size = num_neurons)\n",
    "phi[:, 0] = np.zeros(num_neurons)\n",
    "# eta[:, 0] = np.random.normal(loc = 0.0, scale = 0.1, size = num_neurons)\n",
    "eta[:, 0] = np.zeros(num_neurons)\n",
    "u[:, 0] = np.matmul(weights_M, phi[:, 0]) - eta[:, 0]\n",
    "rho[:, 0] = rho_0 * np.exp(u[:, 0])\n",
    "spike_probs[:, 0] = 1-np.exp(-rho[:, 0])\n",
    "spikes[:, 0] = np.random.binomial(n = 1, p = spike_probs[:, 0])\n",
    "\n"
   ]
  },
  {
   "cell_type": "code",
   "execution_count": 4,
   "metadata": {},
   "outputs": [
    {
     "data": {
      "text/plain": [
       "<matplotlib.axes._subplots.AxesSubplot at 0x114178d90>"
      ]
     },
     "execution_count": 4,
     "metadata": {},
     "output_type": "execute_result"
    },
    {
     "data": {
      "image/png": "[encoded data removed]",
      "text/plain": [
       "<matplotlib.figure.Figure at 0x11419c950>"
      ]
     },
     "metadata": {
      "needs_background": "light"
     },
     "output_type": "display_data"
    }
   ],
   "source": [
    "sns.heatmap(weights_Q)"
   ]
  },
  {
   "cell_type": "code",
   "execution_count": 5,
   "metadata": {},
   "outputs": [],
   "source": [
    "\n",
    "for tt in range(1, num_timebins):\n",
    "        \n",
    "#     for ii in range(num_neurons):\n",
    "        \n",
    "    dphi = dt * (1 / tau) * (spikes[:, tt - 1] - phi[:, tt - 1])\n",
    "    deta = dt * (1 / tau_adapt) * (spikes[:, tt - 1] - eta[:, tt - 1])\n",
    "\n",
    "    phi[:, tt] = phi[:, tt - 1] + dphi\n",
    "    eta[:, tt] = eta[:, tt - 1] + deta\n",
    "    \n",
    "#     if tt % 100 < 5:\n",
    "#         phi[:, tt] += 0.5\n",
    "\n",
    "    total_potential = np.matmul(weights_M, phi[:, tt]) - eta_0 * eta[:, tt]\n",
    "    u[:, tt] = total_potential\n",
    "\n",
    "    rho[:, tt] = rho_0 * np.exp((u[:, tt] - v) / delta_u)\n",
    "\n",
    "#         spikes[:, tt] = np.random.poisson(rho[:, tt])\n",
    "    spike_probs[:, tt] = 1-np.exp(-dt*rho[:, tt])\n",
    "    spikes[:, tt] = np.random.binomial(n = 1, p = spike_probs[:, tt])"
   ]
  },
  {
   "cell_type": "code",
   "execution_count": 6,
   "metadata": {},
   "outputs": [],
   "source": [
    "gaussian_intervals = np.random.normal(size = 100, loc=30, scale=10).astype(int)"
   ]
  },
  {
   "cell_type": "code",
   "execution_count": 7,
   "metadata": {},
   "outputs": [],
   "source": [
    "## staircase pattern\n",
    "neuron_block_size = np.floor(num_visible / 3)\n",
    "curr_neuron_block = 0\n",
    "interval_idx = 0\n",
    "timebin_counter = 0\n",
    "\n",
    "spikes[int(curr_neuron_block * neuron_block_size):int((curr_neuron_block + 1) * neuron_block_size), 0] = 1\n",
    "\n",
    "    \n",
    "for tt in range(1, num_timebins):\n",
    "                \n",
    "    dphi = dt * (1 / tau) * (spikes[:, tt - 1] - phi[:, tt - 1])\n",
    "    deta = dt * (1 / tau_adapt) * (spikes[:, tt - 1] - eta[:, tt - 1])\n",
    "\n",
    "    phi[:, tt] = phi[:, tt - 1] + dphi\n",
    "    eta[:, tt] = eta[:, tt - 1] + deta\n",
    "\n",
    "    total_potential = np.matmul(weights_M, phi[:, tt]) - eta_0 * eta[:, tt]\n",
    "    u[:, tt] = total_potential\n",
    "\n",
    "    rho[:, tt] = rho_0 * np.exp((u[:, tt] - v) / delta_u)\n",
    "    \n",
    "    rho[int(curr_neuron_block * neuron_block_size):int((curr_neuron_block + 1) * neuron_block_size), tt] += 1.0\n",
    "    \n",
    "    rho[int(curr_neuron_block * neuron_block_size):int((curr_neuron_block + 1) * neuron_block_size), tt] += 10.0\n",
    "    nonblock_idx = np.delete(np.arange(num_visible), np.arange(int(curr_neuron_block * neuron_block_size), int((curr_neuron_block + 1) * neuron_block_size)))\n",
    "    rho[nonblock_idx, tt] = 0.05\n",
    "\n",
    "\n",
    "#         spikes[:, tt] = np.random.poisson(rho[:, tt])\n",
    "    spike_probs[:, tt] = 1-np.exp(-dt*rho[:, tt])\n",
    "    spikes[:, tt] = np.random.binomial(n = 1, p = spike_probs[:, tt])\n",
    "        \n",
    "    timebin_counter += 1\n",
    "    if timebin_counter == gaussian_intervals[interval_idx]:\n",
    "        interval_idx += 1\n",
    "        timebin_counter = 0\n",
    "        if curr_neuron_block < 2:\n",
    "            curr_neuron_block += 1\n",
    "        else:\n",
    "            curr_neuron_block = 0"
   ]
  },
  {
   "cell_type": "code",
   "execution_count": 8,
   "metadata": {},
   "outputs": [
    {
     "data": {
      "text/plain": [
       "<matplotlib.text.Text at 0x11419c0d0>"
      ]
     },
     "execution_count": 8,
     "metadata": {},
     "output_type": "execute_result"
    },
    {
     "data": {
      "image/png": "[encoded data removed]",
      "text/plain": [
       "<matplotlib.figure.Figure at 0x11659a490>"
      ]
     },
     "metadata": {
      "needs_background": "light"
     },
     "output_type": "display_data"
    }
   ],
   "source": [
    "fig, ax = plt.subplots(figsize=(20, 5))\n",
    "sns.heatmap(spikes[:, :300])\n",
    "plt.xlabel(\"timestep\")\n",
    "plt.ylabel(\"neuron index\")"
   ]
  },
  {
   "cell_type": "code",
   "execution_count": 9,
   "metadata": {},
   "outputs": [],
   "source": [
    "import autograd.numpy as np"
   ]
  },
  {
   "cell_type": "code",
   "execution_count": 10,
   "metadata": {},
   "outputs": [],
   "source": [
    "learned_weights_M = np.random.normal(loc = 0, scale = 0.1, size = (num_neurons, num_neurons))\n",
    "np.fill_diagonal(learned_weights_M, 0)\n",
    "\n",
    "learned_weights_Q = np.random.normal(loc = 0, scale = 0.1, size = (num_neurons, num_neurons))\n",
    "np.fill_diagonal(learned_weights_Q, 0)\n",
    "\n",
    "free_energy_trace = []\n",
    "LL_M_trace = []\n",
    "LL_Q_trace = []\n",
    "iter_num = 0"
   ]
  },
  {
   "cell_type": "code",
   "execution_count": 11,
   "metadata": {},
   "outputs": [
    {
     "name": "stdout",
     "output_type": "stream",
     "text": [
      "iter: 0, M: -46716.8357226, Q: -22393.2110745\n",
      "iter: 20, M: -33939.0610852, Q: -21091.8553958\n"
     ]
    },
    {
     "name": "stderr",
     "output_type": "stream",
     "text": [
      "ERROR:root:Internal Python error in the inspect module.\n",
      "Below is the traceback from this internal error.\n",
      "\n"
     ]
    },
    {
     "name": "stdout",
     "output_type": "stream",
     "text": [
      "Traceback (most recent call last):\n",
      "  File \"/usr/local/lib/python2.7/site-packages/IPython/core/ultratb.py\", line 1132, in get_records\n",
      "    return _fixed_getinnerframes(etb, number_of_lines_of_context, tb_offset)\n",
      "  File \"/usr/local/lib/python2.7/site-packages/IPython/core/ultratb.py\", line 313, in wrapped\n",
      "    return f(*args, **kwargs)\n",
      "  File \"/usr/local/lib/python2.7/site-packages/IPython/core/ultratb.py\", line 358, in _fixed_getinnerframes\n",
      "    records = fix_frame_records_filenames(inspect.getinnerframes(etb, context))\n",
      "  File \"/usr/local/Cellar/python/2.7.13_1/Frameworks/Python.framework/Versions/2.7/lib/python2.7/inspect.py\", line 1048, in getinnerframes\n",
      "    framelist.append((tb.tb_frame,) + getframeinfo(tb, context))\n",
      "  File \"/usr/local/Cellar/python/2.7.13_1/Frameworks/Python.framework/Versions/2.7/lib/python2.7/inspect.py\", line 1008, in getframeinfo\n",
      "    filename = getsourcefile(frame) or getfile(frame)\n",
      "  File \"/usr/local/Cellar/python/2.7.13_1/Frameworks/Python.framework/Versions/2.7/lib/python2.7/inspect.py\", line 453, in getsourcefile\n",
      "    if hasattr(getmodule(object, filename), '__loader__'):\n",
      "  File \"/usr/local/Cellar/python/2.7.13_1/Frameworks/Python.framework/Versions/2.7/lib/python2.7/inspect.py\", line 499, in getmodule\n",
      "    os.path.realpath(f)] = module.__name__\n",
      "  File \"/usr/local/Cellar/python/2.7.13_1/Frameworks/Python.framework/Versions/2.7/lib/python2.7/posixpath.py\", line 375, in realpath\n",
      "    path, ok = _joinrealpath('', filename, {})\n",
      "  File \"/usr/local/Cellar/python/2.7.13_1/Frameworks/Python.framework/Versions/2.7/lib/python2.7/posixpath.py\", line 400, in _joinrealpath\n",
      "    if not islink(newpath):\n",
      "  File \"/usr/local/Cellar/python/2.7.13_1/Frameworks/Python.framework/Versions/2.7/lib/python2.7/posixpath.py\", line 135, in islink\n",
      "    st = os.lstat(path)\n",
      "KeyboardInterrupt\n"
     ]
    },
    {
     "name": "stderr",
     "output_type": "stream",
     "text": [
      "\n",
      "KeyboardInterrupt\n",
      "\n"
     ]
    }
   ],
   "source": [
    "## Simulate t = 1,...,T for Q network to get hidden neurons' spikes\n",
    "\n",
    "\n",
    "for iter_num in range(300):\n",
    "    \n",
    "    phi_Q = phi #np.zeros(shape = (num_neurons, num_timebins))\n",
    "    rho_Q = rho #np.zeros(shape = (num_neurons, num_timebins))\n",
    "    eta_Q = eta #np.zeros(shape = (num_neurons, num_timebins))\n",
    "    u_Q = u #np.zeros(shape = (num_neurons, num_timebins))\n",
    "    spikes_Q = np.zeros(shape = (num_neurons, num_timebins))\n",
    "    spike_probs_Q = np.zeros(shape = (num_neurons, num_timebins))\n",
    "\n",
    "#     phi_Q = phi\n",
    "#     eta_Q[:, 0] = np.zeros(num_neurons)\n",
    "#     u_Q[:, 0] = np.matmul(weights_Q, phi_Q[:, 0]) - eta_Q[:, 0]\n",
    "#     rho_Q[:, 0] = rho_0 * np.exp(u_Q[:, 0])\n",
    "    spike_probs_Q[:, 0] = 1-np.exp(-rho_Q[:, 0])\n",
    "    spikes_Q[:, 0] = np.random.binomial(n = 1, p = spike_probs_Q[:, 0])\n",
    "    spikes_Q[:num_visible, :] = spikes[:num_visible, :]\n",
    "    \n",
    "    for tt in range(1, num_timebins):\n",
    "\n",
    "#         for ii in range(num_neurons):\n",
    "\n",
    "        dphi = dt * (1 / tau) * (spikes_Q[:, tt - 1] - phi_Q[:, tt - 1])\n",
    "        deta = dt * (1 / tau_adapt) * (spikes_Q[:, tt - 1] - eta_Q[:, tt - 1])\n",
    "\n",
    "        phi_Q[:, tt] = phi_Q[:, tt - 1] + dphi\n",
    "        eta_Q[:, tt] = eta_Q[:, tt - 1] + deta\n",
    "\n",
    "        total_potential = np.matmul(learned_weights_Q, phi_Q[:, tt]) - eta_0 * eta_Q[:, tt]\n",
    "        u_Q[:, tt] = total_potential\n",
    "\n",
    "        rho_Q[:, tt] = rho_0 * np.exp((u_Q[:, tt] - v) / delta_u)\n",
    "\n",
    "        spike_probs_Q[:, tt] = 1-np.exp(-dt*rho_Q[:, tt])\n",
    "        spikes_Q[:, tt] = np.random.binomial(n = 1, p = spike_probs_Q[:, tt])\n",
    "        spikes_Q[:num_visible, :] = spikes[:num_visible, :]\n",
    "\n",
    "\n",
    "\n",
    "    ## Set hidden spikes to be those just simulated from Q network\n",
    "    spikes[num_visible:, :] = spikes_Q[num_visible:, :]\n",
    "\n",
    "\n",
    "    ## Calculate likelihood of M network\n",
    "\n",
    "    def LL_M(curr_weights):\n",
    "        total_potential = np.matmul(curr_weights, phi) - eta_0 * eta\n",
    "\n",
    "        curr_rho = rho_0 * np.exp((total_potential - v) / delta_u)\n",
    "        LL = np.sum(np.multiply(np.log(rho), spikes) - curr_rho) * dt\n",
    "        return LL\n",
    "\n",
    "\n",
    "\n",
    "    ## Take gradient of M network LL wrt M weights and update M weights\n",
    "\n",
    "    curr_LL_M = LL_M(learned_weights_M)\n",
    "    grad_LL_M = grad(LL_M)\n",
    "    M_weights_gradients = grad_LL_M(learned_weights_M)\n",
    "\n",
    "    learned_weights_M += mu_M * M_weights_gradients\n",
    "\n",
    "\n",
    "    ## Calculate likelihood of Q network (only sums over hidden neurons)\n",
    "\n",
    "    def LL_Q(curr_weights):\n",
    "        total_potential = np.matmul(curr_weights, phi_Q) - eta_0 * eta_Q\n",
    "\n",
    "        curr_rho = rho_0 * np.exp((total_potential - v) / delta_u)\n",
    "        individual_likelihoods = np.multiply(np.log(curr_rho), spikes_Q) - curr_rho\n",
    "        LL = np.sum(individual_likelihoods[num_visible:, :]) * dt # only sum over hidden\n",
    "        return LL\n",
    "\n",
    "\n",
    "\n",
    "    ## Calculate point estimate of free energy\n",
    "\n",
    "    curr_LL_Q = LL_Q(learned_weights_Q)\n",
    "    free_energy = curr_LL_Q - curr_LL_M\n",
    "    free_energy_trace.append(free_energy)\n",
    "\n",
    "\n",
    "    ## Take gradient wrt Q network LL, multiply by free energy, and update Q weights\n",
    "    ## Set connections toward visible neurons to 0\n",
    "\n",
    "    grad_LL_Q = grad(LL_Q)\n",
    "    Q_weights_gradients = grad_LL_Q(learned_weights_Q)\n",
    "\n",
    "    if iter_num == 0:\n",
    "        curr_free_energy = 1\n",
    "    else:\n",
    "        curr_free_energy = free_energy - np.mean(free_energy_trace)\n",
    "    \n",
    "#     mu_Q = 1e-10\n",
    "    learned_weights_Q += mu_Q * Q_weights_gradients\n",
    "    learned_weights_Q[:num_visible, :] = 0\n",
    "\n",
    "    LL_M_trace.append(curr_LL_M)\n",
    "    LL_Q_trace.append(curr_LL_Q)\n",
    "\n",
    "    if iter_num % 20 == 0:\n",
    "        print 'iter: {}, M: {}, Q: {}'.format(iter_num, curr_LL_M, curr_LL_Q)\n"
   ]
  },
  {
   "cell_type": "code",
   "execution_count": null,
   "metadata": {},
   "outputs": [],
   "source": [
    "Q_weights_gradients"
   ]
  },
  {
   "cell_type": "code",
   "execution_count": null,
   "metadata": {},
   "outputs": [],
   "source": [
    "fig, ax = plt.subplots(figsize=(20, 3))\n",
    "sns.heatmap(spikes_Q)"
   ]
  },
  {
   "cell_type": "code",
   "execution_count": null,
   "metadata": {},
   "outputs": [],
   "source": [
    "fig, ax1 = plt.subplots(figsize = (10, 5))\n",
    "\n",
    "color = 'tab:red'\n",
    "ax1.set_xlabel('time (s)')\n",
    "ax1.set_ylabel('M LL', color=color)\n",
    "ax1.plot(LL_M_trace, color=color)\n",
    "ax1.tick_params(axis='y', labelcolor=color)\n",
    "\n",
    "ax2 = ax1.twinx()  # instantiate a second axes that shares the same x-axis\n",
    "\n",
    "color = 'tab:blue'\n",
    "ax2.set_ylabel('Q LL', color=color)  # we already handled the x-label with ax1\n",
    "ax2.plot(LL_Q_trace, color=color)\n",
    "ax2.tick_params(axis='y', labelcolor=color)\n",
    "\n",
    "fig.tight_layout()  # otherwise the right y-label is slightly clipped\n",
    "plt.show()\n"
   ]
  },
  {
   "cell_type": "code",
   "execution_count": null,
   "metadata": {},
   "outputs": [],
   "source": [
    "print np.sum((learned_weights_M[:num_visible, :num_visible] - weights_M[:num_visible, :num_visible])**2)"
   ]
  },
  {
   "cell_type": "code",
   "execution_count": null,
   "metadata": {},
   "outputs": [],
   "source": []
  },
  {
   "cell_type": "code",
   "execution_count": null,
   "metadata": {},
   "outputs": [],
   "source": [
    "curr_neuron_block = 0\n",
    "spikes[int(curr_neuron_block * neuron_block_size):int((curr_neuron_block + 1) * neuron_block_size), 0] = 1\n",
    "\n",
    "for tt in range(1, num_timebins):\n",
    "        \n",
    "        \n",
    "    dphi = dt * (1 / tau) * (spikes[:, tt - 1] - phi[:, tt - 1])\n",
    "    deta = dt * (1 / tau_adapt) * (spikes[:, tt - 1] - eta[:, tt - 1])\n",
    "\n",
    "    phi[:, tt] = phi[:, tt - 1] + dphi\n",
    "    eta[:, tt] = eta[:, tt - 1] + deta\n",
    "\n",
    "    total_potential = np.matmul(weights_M, phi[:, tt]) - eta_0 * eta[:, tt]\n",
    "    u[:, tt] = total_potential\n",
    "\n",
    "    rho[:, tt] = rho_0 * np.exp((u[:, tt] - v) / delta_u)\n",
    "\n",
    "#         spikes[:, tt] = np.random.poisson(rho[:, tt])\n",
    "    spike_probs[:, tt] = 1-np.exp(-dt*rho[:, tt])\n",
    "    spikes[:, tt] = np.random.binomial(n = 1, p = spike_probs[:, tt])"
   ]
  },
  {
   "cell_type": "code",
   "execution_count": null,
   "metadata": {},
   "outputs": [],
   "source": [
    "fig, ax = plt.subplots(figsize=(20, 3))\n",
    "sns.heatmap(spikes[:, :300])"
   ]
  },
  {
   "cell_type": "code",
   "execution_count": null,
   "metadata": {},
   "outputs": [],
   "source": []
  },
  {
   "cell_type": "code",
   "execution_count": null,
   "metadata": {},
   "outputs": [],
   "source": []
  }
 ],
 "metadata": {
  "kernelspec": {
   "display_name": "Python 2",
   "language": "python",
   "name": "python2"
  },
  "language_info": {
   "codemirror_mode": {
    "name": "ipython",
    "version": 2
   },
   "file_extension": ".py",
   "mimetype": "text/x-python",
   "name": "python",
   "nbconvert_exporter": "python",
   "pygments_lexer": "ipython2",
   "version": "2.7.13"
  }
 },
 "nbformat": 4,
 "nbformat_minor": 2
}
