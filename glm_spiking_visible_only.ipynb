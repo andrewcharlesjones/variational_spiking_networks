{
 "cells": [
  {
   "cell_type": "code",
   "execution_count": 1409,
   "metadata": {},
   "outputs": [],
   "source": [
    "import numpy as np\n",
    "import matplotlib.pyplot as plt\n",
    "import seaborn as sns\n",
    "import statsmodels.api as sm\n",
    "import pandas as pd\n",
    "from scipy import optimize"
   ]
  },
  {
   "cell_type": "code",
   "execution_count": 1410,
   "metadata": {},
   "outputs": [],
   "source": [
    "## NEURON PARAMETERS\n",
    "tau = 10.\n",
    "eta_0 = 0.01\n",
    "tau_adapt = 10.\n",
    "rho_0 = 0.1\n",
    "v = 0\n",
    "delta_u = 1.\n",
    "mu_M = 1e-5\n",
    "tau_G = 10.\n",
    "tau_baseline = 100.\n",
    "dt = 1."
   ]
  },
  {
   "cell_type": "code",
   "execution_count": 1411,
   "metadata": {},
   "outputs": [],
   "source": [
    "## NETWORK PARAMETERS\n",
    "\n",
    "num_neurons = 6\n",
    "num_timebins = 10000\n",
    "\n",
    "## GENERATE WEIGHTS\n",
    "weights = np.random.normal(loc = 0, scale = 0.1, size = (num_neurons, num_neurons))\n",
    "np.fill_diagonal(weights, 0)\n",
    "\n",
    "## INITIALIZE DATA\n",
    "phi = np.random.normal(0, 0.1, size = (num_neurons, num_timebins)) #np.zeros(shape = (num_neurons, num_timebins))\n",
    "rho = np.random.exponential(1, size = (num_neurons, num_timebins)) #np.zeros(shape = (num_neurons, num_timebins))\n",
    "eta = np.random.normal(0, 0.1, size = (num_neurons, num_timebins)) #np.zeros(shape = (num_neurons, num_timebins))\n",
    "u = np.random.normal(0, 0.1, size = (num_neurons, num_timebins)) #np.zeros(shape = (num_neurons, num_timebins))\n",
    "spikes = np.zeros(shape = (num_neurons, num_timebins))\n",
    "spike_probs = np.zeros(shape = (num_neurons, num_timebins))\n",
    "\n",
    "# phi[:, 0] = np.random.normal(loc = 0.0, scale = 0.1, size = num_neurons)\n",
    "phi[:, 0] = np.zeros(num_neurons)\n",
    "# eta[:, 0] = np.random.normal(loc = 0.0, scale = 0.1, size = num_neurons)\n",
    "eta[:, 0] = np.zeros(num_neurons)\n",
    "u[:, 0] = np.matmul(weights, phi[:, 0]) - eta[:, 0]\n",
    "rho[:, 0] = rho_0 * np.exp(u[:, 0])\n",
    "spike_probs[:, 0] = 1-np.exp(-rho[:, 0])\n",
    "spikes[:, 0] = np.random.binomial(n = 1, p = spike_probs[:, 0])\n",
    "\n"
   ]
  },
  {
   "cell_type": "code",
   "execution_count": null,
   "metadata": {},
   "outputs": [],
   "source": []
  },
  {
   "cell_type": "code",
   "execution_count": 1412,
   "metadata": {},
   "outputs": [],
   "source": [
    "# RANDOM SPIKES\n",
    "\n",
    "for tt in range(1, num_timebins):\n",
    "                \n",
    "    dphi = dt * (1 / tau) * (spikes[:, tt - 1] - phi[:, tt - 1])\n",
    "    deta = dt * (1 / tau_adapt) * (spikes[:, tt - 1] - eta[:, tt - 1])\n",
    "\n",
    "    phi[:, tt] = phi[:, tt - 1] + dphi\n",
    "    eta[:, tt] = eta[:, tt - 1] + deta\n",
    "\n",
    "    total_potential = np.matmul(weights, phi[:, tt]) - eta_0 * eta[:, tt]\n",
    "    u[:, tt] = total_potential\n",
    "\n",
    "    rho[:, tt] = rho_0 * np.exp((u[:, tt] - v) / delta_u)\n",
    "\n",
    "#         spikes[:, tt] = np.random.poisson(rho[:, tt])\n",
    "    spike_probs[:, tt] = 1-np.exp(-dt*rho[:, tt])\n",
    "    spikes[:, tt] = np.random.binomial(n = 1, p = spike_probs[:, tt])"
   ]
  },
  {
   "cell_type": "code",
   "execution_count": 1413,
   "metadata": {},
   "outputs": [
    {
     "data": {
      "image/png": "[encoded data removed]",
      "text/plain": [
       "<matplotlib.figure.Figure at 0x124f386d0>"
      ]
     },
     "metadata": {
      "needs_background": "light"
     },
     "output_type": "display_data"
    }
   ],
   "source": [
    "## HEATMAP DATA\n",
    "fig, ax = plt.subplots(figsize=(20, 3))\n",
    "sns.heatmap(spikes[:, :400])\n",
    "plt.xlabel(\"timestep\")\n",
    "plt.ylabel(\"neuron index\")\n",
    "plt.show()"
   ]
  },
  {
   "cell_type": "code",
   "execution_count": null,
   "metadata": {},
   "outputs": [],
   "source": []
  },
  {
   "cell_type": "code",
   "execution_count": 1414,
   "metadata": {},
   "outputs": [],
   "source": [
    "## STAIRCASE PATTERN\n",
    "neuron_block_size = np.floor(num_neurons / 3)\n",
    "curr_neuron_block = 0\n",
    "interval_idx = 0\n",
    "timebin_counter = 0\n",
    "\n",
    "gaussian_intervals = np.random.normal(size = 5000, loc=30, scale=3).astype(int)\n",
    "\n",
    "spike_probs[int(curr_neuron_block * neuron_block_size):int((curr_neuron_block + 1) * neuron_block_size), 0] = 0.7\n",
    "spikes[:, 0] = np.random.binomial(n = 1, p = spike_probs[:, 0])\n",
    "    \n",
    "for tt in range(1, num_timebins):\n",
    "                \n",
    "    dphi = dt * (1 / tau) * (spikes[:, tt - 1] - phi[:, tt - 1])\n",
    "    deta = dt * (1 / tau_adapt) * (spikes[:, tt - 1] - eta[:, tt - 1])\n",
    "\n",
    "    phi[:, tt] = phi[:, tt - 1] + dphi\n",
    "    eta[:, tt] = eta[:, tt - 1] + deta\n",
    "    \n",
    "    nonblock_idx = np.delete(np.arange(num_neurons), np.arange(int(curr_neuron_block * neuron_block_size), int((curr_neuron_block + 1) * neuron_block_size)))\n",
    "\n",
    "#     phi[int(curr_neuron_block * neuron_block_size):int((curr_neuron_block + 1) * neuron_block_size), tt] += 10\n",
    "#     phi[nonblock_idx, tt] -= 10\n",
    "\n",
    "    total_potential = np.matmul(weights, phi[:, tt]) - eta_0 * eta[:, tt]\n",
    "    u[:, tt] = total_potential\n",
    "    \n",
    "\n",
    "    \n",
    "    u[int(curr_neuron_block * neuron_block_size):int((curr_neuron_block + 1) * neuron_block_size), tt] += 8.0\n",
    "    u[nonblock_idx, tt] -= 0.5\n",
    "\n",
    "\n",
    "    rho[:, tt] = rho_0 * np.exp((u[:, tt] - v) / delta_u)\n",
    "    \n",
    "#     rho[int(curr_neuron_block * neuron_block_size):int((curr_neuron_block + 1) * neuron_block_size), tt] += 4.0\n",
    "#     rho[nonblock_idx, tt] = 0.05 #rho_0 #np.maximum(rho[nonblock_idx, tt] - .1, 0)\n",
    "\n",
    "\n",
    "#         spikes[:, tt] = np.random.poisson(rho[:, tt])\n",
    "    spike_probs[:, tt] = 1-np.exp(-dt*rho[:, tt])\n",
    "    \n",
    "#     spike_probs[int(curr_neuron_block * neuron_block_size):int((curr_neuron_block + 1) * neuron_block_size), tt] = 0.7\n",
    "#     spike_probs[nonblock_idx, tt] = 0.001 #rho_0 #np.maximum(rho[nonblock_idx, tt] - .1, 0)\n",
    "\n",
    "\n",
    "    spikes[:, tt] = np.random.binomial(n = 1, p = spike_probs[:, tt])\n",
    "    \n",
    "    \n",
    "    \n",
    "        \n",
    "    timebin_counter += 1\n",
    "    if timebin_counter == gaussian_intervals[interval_idx]:\n",
    "        interval_idx += 1\n",
    "        timebin_counter = 0\n",
    "        if curr_neuron_block < 2:\n",
    "            curr_neuron_block += 1\n",
    "        else:\n",
    "            curr_neuron_block = 0"
   ]
  },
  {
   "cell_type": "code",
   "execution_count": 1415,
   "metadata": {},
   "outputs": [
    {
     "data": {
      "image/png": "[encoded data removed]",
      "text/plain": [
       "<matplotlib.figure.Figure at 0x125a74850>"
      ]
     },
     "metadata": {
      "needs_background": "light"
     },
     "output_type": "display_data"
    }
   ],
   "source": [
    "## HEATMAP DATA\n",
    "fig, ax = plt.subplots(figsize=(20, 3))\n",
    "sns.heatmap(spikes[:, :400])\n",
    "plt.xlabel(\"timestep\")\n",
    "plt.ylabel(\"neuron index\")\n",
    "plt.show()"
   ]
  },
  {
   "cell_type": "code",
   "execution_count": 1416,
   "metadata": {},
   "outputs": [
    {
     "data": {
      "image/png": "[encoded data removed]",
      "text/plain": [
       "<matplotlib.figure.Figure at 0x124de0510>"
      ]
     },
     "metadata": {
      "needs_background": "light"
     },
     "output_type": "display_data"
    }
   ],
   "source": [
    "## HEATMAP DATA\n",
    "fig, ax = plt.subplots(figsize=(20, 3))\n",
    "sns.heatmap(phi[:, :400])\n",
    "plt.xlabel(\"timestep\")\n",
    "plt.ylabel(\"neuron index\")\n",
    "plt.show()"
   ]
  },
  {
   "cell_type": "code",
   "execution_count": 1417,
   "metadata": {},
   "outputs": [],
   "source": [
    "## LOG LIKELIHOOD FUNCTION\n",
    "def log_likelihood(curr_weights):\n",
    "\n",
    "#     total_potential = np.matmul(curr_weights, phi) - eta_0 * eta[0, :]\n",
    "\n",
    "#     rho[0, :] = rho_0 * np.exp((total_potential - v) / delta_u)\n",
    "#     LL = np.sum(np.multiply(np.log(rho[0, :]), spikes[0, :]) - rho[0, :]) * dt\n",
    "\n",
    "    curr_weights = np.reshape(curr_weights, [num_neurons, num_neurons])\n",
    "    np.fill_diagonal(curr_weights, 0)\n",
    "\n",
    "    total_potential = np.matmul(curr_weights, phi) - eta_0 * eta\n",
    "\n",
    "    curr_rho = rho_0 * np.exp((total_potential - v) / delta_u)\n",
    "    LL = np.sum(np.multiply(np.log(curr_rho), spikes) - curr_rho) * dt\n",
    "\n",
    "    return -LL"
   ]
  },
  {
   "cell_type": "code",
   "execution_count": null,
   "metadata": {},
   "outputs": [],
   "source": []
  },
  {
   "cell_type": "code",
   "execution_count": 1418,
   "metadata": {},
   "outputs": [
    {
     "name": "stdout",
     "output_type": "stream",
     "text": [
      "Warning: Desired error not necessarily achieved due to precision loss.\n",
      "         Current function value: 33553.020148\n",
      "         Iterations: 57\n",
      "         Function evaluations: 3459\n",
      "         Gradient evaluations: 91\n"
     ]
    }
   ],
   "source": [
    "## USE SCIPY OPTIMIZE TO LEARN WEIGHTS\n",
    "x0 = np.random.normal(loc=0, scale=0.1, size=num_neurons*num_neurons)\n",
    "res = optimize.minimize(log_likelihood, x0, options={'disp': True}, tol=1e-5, method = \"BFGS\")\n",
    "scipy_learned_weights = np.reshape(res.x, [num_neurons, num_neurons])"
   ]
  },
  {
   "cell_type": "code",
   "execution_count": 1419,
   "metadata": {},
   "outputs": [
    {
     "name": "stdout",
     "output_type": "stream",
     "text": [
      "LL: 33553.0201476, MSE: 61.3665329042\n"
     ]
    }
   ],
   "source": [
    "print \"LL: {}, MSE: {}\".format(log_likelihood(scipy_learned_weights), np.sum((scipy_learned_weights - weights)**2))"
   ]
  },
  {
   "cell_type": "code",
   "execution_count": 1420,
   "metadata": {},
   "outputs": [
    {
     "data": {
      "image/png": "[encoded data removed]",
      "text/plain": [
       "<matplotlib.figure.Figure at 0x12616c990>"
      ]
     },
     "metadata": {
      "needs_background": "light"
     },
     "output_type": "display_data"
    }
   ],
   "source": [
    "np.fill_diagonal(scipy_learned_weights, 0)\n",
    "sns.heatmap(np.reshape(scipy_learned_weights, [num_neurons, num_neurons]))\n",
    "plt.savefig(\"./plots/learned_weights_rho_{}.png\".format(rho_0))\n",
    "plt.show()"
   ]
  },
  {
   "cell_type": "code",
   "execution_count": null,
   "metadata": {},
   "outputs": [],
   "source": []
  },
  {
   "cell_type": "code",
   "execution_count": 1421,
   "metadata": {
    "scrolled": true
   },
   "outputs": [],
   "source": [
    "# ## LEARN WEIGHTS VIA GRADIENT DESCENT\n",
    "# from autograd import grad\n",
    "# import autograd.numpy as np\n",
    "\n",
    "# x0 = np.random.normal(loc=0, scale=0.1, size=[num_neurons, num_neurons])\n",
    "# learned_weights_GD = x0\n",
    "\n",
    "# # AUTOGRAD GRADIENT\n",
    "# grad_LL = grad(log_likelihood)\n",
    "\n",
    "# LL_trace = []\n",
    "# for inum in range(40000):\n",
    "\n",
    "#     curr_LL = log_likelihood(learned_weights_GD)\n",
    "#     LL_trace.append(curr_LL)\n",
    "#     M_weights_gradients = grad_LL(learned_weights_GD)\n",
    "\n",
    "#     learned_weights_GD -= mu_M * M_weights_gradients\n",
    "#     if inum % 1000 == 0:\n",
    "#         print curr_LL\n",
    "# #         print np.sum((learned_weights_GD - weights)**2)"
   ]
  },
  {
   "cell_type": "code",
   "execution_count": 1422,
   "metadata": {},
   "outputs": [],
   "source": [
    "# sns.heatmap(np.reshape(learned_weights_GD, [num_neurons, num_neurons]))"
   ]
  },
  {
   "cell_type": "code",
   "execution_count": null,
   "metadata": {},
   "outputs": [],
   "source": []
  },
  {
   "cell_type": "code",
   "execution_count": 1423,
   "metadata": {},
   "outputs": [],
   "source": [
    "# plt.plot(LL_trace)\n",
    "# plt.show()"
   ]
  },
  {
   "cell_type": "code",
   "execution_count": 1424,
   "metadata": {},
   "outputs": [],
   "source": [
    "# print \"LL: {}, MSE: {}\".format(log_likelihood(learned_weights_GD), np.sum((learned_weights_GD - weights)**2))"
   ]
  },
  {
   "cell_type": "code",
   "execution_count": null,
   "metadata": {},
   "outputs": [],
   "source": []
  },
  {
   "cell_type": "code",
   "execution_count": 1425,
   "metadata": {},
   "outputs": [],
   "source": [
    "## SIMULATE NETWORK WITH LEARNED WEIGHTS\n",
    "\n",
    "weights_to_use = scipy_learned_weights\n",
    "# weights_to_use = learned_weights_GD\n",
    "curr_neuron_block = 0\n",
    "\n",
    "phi_new = phi.copy()\n",
    "rho_new = rho.copy()\n",
    "eta_new = eta.copy()\n",
    "u_new = u.copy()\n",
    "rho_new = rho.copy()\n",
    "spikes_new = spikes.copy()\n",
    "\n",
    "# rho_0 = 0.01\n",
    "\n",
    "for tt in range(np.sum(gaussian_intervals[:3]), num_timebins):\n",
    "                \n",
    "    dphi = dt * (1 / tau) * (spikes[:, tt - 1] - phi[:, tt - 1])\n",
    "    deta = dt * (1 / tau_adapt) * (spikes[:, tt - 1] - eta[:, tt - 1])\n",
    "\n",
    "    phi[:, tt] = phi[:, tt - 1] + dphi\n",
    "    eta[:, tt] = eta[:, tt - 1] + deta\n",
    "\n",
    "    total_potential = np.matmul(weights_to_use, phi[:, tt]) - eta_0 * eta[:, tt]\n",
    "    \n",
    "    u[:, tt] = total_potential\n",
    "\n",
    "    rho[:, tt] = rho_0 * np.exp((u[:, tt] - v) / delta_u)\n",
    "\n",
    "#         spikes[:, tt] = np.random.poisson(rho[:, tt])\n",
    "    spike_probs[:, tt] = 1-np.exp(-dt*rho[:, tt])\n",
    "    spikes[:, tt] = np.random.binomial(n = 1, p = spike_probs[:, tt])"
   ]
  },
  {
   "cell_type": "code",
   "execution_count": 1427,
   "metadata": {},
   "outputs": [
    {
     "data": {
      "image/png": "[encoded data removed]",
      "text/plain": [
       "<matplotlib.figure.Figure at 0x12520b990>"
      ]
     },
     "metadata": {
      "needs_background": "light"
     },
     "output_type": "display_data"
    },
    {
     "data": {
      "image/png": "[encoded data removed]",
      "text/plain": [
       "<matplotlib.figure.Figure at 0x12520bd10>"
      ]
     },
     "metadata": {
      "needs_background": "light"
     },
     "output_type": "display_data"
    }
   ],
   "source": [
    "fig, ax = plt.subplots(figsize=(20, 3))\n",
    "sns.heatmap(spikes[:, :400])\n",
    "plt.xlabel(\"timestep\")\n",
    "plt.ylabel(\"neuron index\")\n",
    "plt.savefig(\"./plots/simulated_spikes_rho_{}.png\".format(rho_0))\n",
    "plt.show()\n",
    "\n",
    "fig, ax = plt.subplots(figsize=(20, 3))\n",
    "sns.heatmap(u[:, :400])\n",
    "plt.xlabel(\"timestep\")\n",
    "plt.ylabel(\"neuron index\")\n",
    "plt.show()"
   ]
  },
  {
   "cell_type": "code",
   "execution_count": null,
   "metadata": {},
   "outputs": [],
   "source": []
  },
  {
   "cell_type": "code",
   "execution_count": null,
   "metadata": {},
   "outputs": [],
   "source": []
  },
  {
   "cell_type": "code",
   "execution_count": null,
   "metadata": {},
   "outputs": [],
   "source": []
  },
  {
   "cell_type": "code",
   "execution_count": null,
   "metadata": {},
   "outputs": [],
   "source": []
  },
  {
   "cell_type": "code",
   "execution_count": null,
   "metadata": {},
   "outputs": [],
   "source": []
  },
  {
   "cell_type": "code",
   "execution_count": null,
   "metadata": {},
   "outputs": [],
   "source": []
  },
  {
   "cell_type": "code",
   "execution_count": null,
   "metadata": {},
   "outputs": [],
   "source": [
    "\n"
   ]
  },
  {
   "cell_type": "code",
   "execution_count": null,
   "metadata": {},
   "outputs": [],
   "source": []
  },
  {
   "cell_type": "code",
   "execution_count": null,
   "metadata": {},
   "outputs": [],
   "source": []
  },
  {
   "cell_type": "code",
   "execution_count": null,
   "metadata": {},
   "outputs": [],
   "source": []
  }
 ],
 "metadata": {
  "kernelspec": {
   "display_name": "Python 2",
   "language": "python",
   "name": "python2"
  },
  "language_info": {
   "codemirror_mode": {
    "name": "ipython",
    "version": 2
   },
   "file_extension": ".py",
   "mimetype": "text/x-python",
   "name": "python",
   "nbconvert_exporter": "python",
   "pygments_lexer": "ipython2",
   "version": "2.7.13"
  }
 },
 "nbformat": 4,
 "nbformat_minor": 2
}
