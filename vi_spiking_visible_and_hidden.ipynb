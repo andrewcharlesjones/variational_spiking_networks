{
 "cells": [
  {
   "cell_type": "code",
   "execution_count": 3,
   "metadata": {},
   "outputs": [],
   "source": [
    "import numpy as np\n",
    "import matplotlib.pyplot as plt\n",
    "from scipy.stats import bernoulli\n",
    "import seaborn as sns"
   ]
  },
  {
   "cell_type": "code",
   "execution_count": 6,
   "metadata": {},
   "outputs": [],
   "source": [
    "num_visible_neurons = 10\n",
    "num_hidden_neurons = 10\n",
    "num_neurons = num_visible_neurons + num_hidden_neurons\n",
    "num_timebins = 300\n",
    "num_iter = 100\n",
    "print_iter = 10\n",
    "\n",
    "tau = 0.01\n",
    "eta_0 = 0.1\n",
    "tau_adapt = 0.01\n",
    "rho_0 = 1\n",
    "v = 0\n",
    "delta_u = 1\n",
    "mu_M = 1e-5\n",
    "mu_Q = 0.00001\n",
    "tau_G = 0.01\n",
    "tau_baseline = 0.1\n",
    "dt = 0.001\n",
    "\n",
    "## Generate synthetic data\n",
    "data = np.random.binomial(n = 1, p = 0.1, size = [num_neurons, num_timebins])\n",
    "true_weights = np.random.normal(loc=0, scale=0.1, size = [num_neurons, num_neurons]) # not used currently, but one could do a simulation to see if the true weights are recovered\n",
    "\n",
    "## Initialize arrays\n",
    "potentials = np.zeros((num_neurons, num_timebins))\n",
    "\n"
   ]
  },
  {
   "cell_type": "code",
   "execution_count": 8,
   "metadata": {},
   "outputs": [],
   "source": [
    "W_weights = np.random.normal(loc=0, scale=0.1, size = [num_neurons, num_neurons])\n",
    "Q_weights = np.random.normal(loc=0, scale=0.1, size = [num_neurons, num_neurons])\n",
    "\n",
    "Q_weights[:, :num_visible_neurons] = np.nan"
   ]
  },
  {
   "cell_type": "code",
   "execution_count": null,
   "metadata": {},
   "outputs": [],
   "source": []
  },
  {
   "cell_type": "code",
   "execution_count": null,
   "metadata": {},
   "outputs": [],
   "source": []
  }
 ],
 "metadata": {
  "kernelspec": {
   "display_name": "Python 2",
   "language": "python",
   "name": "python2"
  },
  "language_info": {
   "codemirror_mode": {
    "name": "ipython",
    "version": 2
   },
   "file_extension": ".py",
   "mimetype": "text/x-python",
   "name": "python",
   "nbconvert_exporter": "python",
   "pygments_lexer": "ipython2",
   "version": "2.7.10"
  }
 },
 "nbformat": 4,
 "nbformat_minor": 2
}
