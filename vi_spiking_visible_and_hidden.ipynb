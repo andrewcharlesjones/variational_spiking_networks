{
 "cells": [
  {
   "cell_type": "code",
   "execution_count": 118,
   "metadata": {},
   "outputs": [],
   "source": [
    "import numpy as np\n",
    "import matplotlib.pyplot as plt\n",
    "from scipy.stats import bernoulli\n",
    "import seaborn as sns\n",
    "from stimuli import staircase"
   ]
  },
  {
   "cell_type": "code",
   "execution_count": 264,
   "metadata": {},
   "outputs": [],
   "source": [
    "def phi_j_t(X, j, t, t_val, tau_val):\n",
    "    '''\n",
    "    evoked potential for neuron j at time t\n",
    "    '''\n",
    "    cumulative_time_array = np.arange(0, tt + 1) / 1000.\n",
    "    phi = np.dot(np.exp(-(t_val - cumulative_time_array) / tau_val), X[j, :tt + 1])\n",
    "    return phi\n",
    "\n",
    "def phi_t(X, t, t_val, tau_val):\n",
    "    '''\n",
    "    summed evoked potentials across all neurons at time t\n",
    "    '''\n",
    "    cumulative_time_array = np.arange(0, t + 1) / 1000.\n",
    "    phi = np.dot(np.exp(-(t_val - cumulative_time_array) / tau_val), X[:, :t + 1].transpose())\n",
    "    return phi\n",
    "\n",
    "\n",
    "def eta_i_t(X, i, t, t_val, tau_val, eta_0):\n",
    "    '''\n",
    "    adaptation potential of neuron i at time t\n",
    "    '''\n",
    "    cumulative_time_array = np.arange(0, tt + 1) / 1000.\n",
    "    phi = np.dot(np.exp(-(t_val - cumulative_time_array) / tau_val), X[i, :tt + 1])\n",
    "    return -eta_0 * phi\n",
    "\n",
    "\n",
    "def rho_i_t(u, i, t, v, delta_u):\n",
    "    '''\n",
    "    firing rate of neuron i at time t\n",
    "    '''\n",
    "    return rho_0 * np.exp(u[i, t] - v / delta_u)\n",
    "\n",
    "\n",
    "def log_likelihood(X, u, neuron_start_idx=0):\n",
    "    '''\n",
    "    compute log likelihood of current model\n",
    "    '''\n",
    "    likelihoods = []\n",
    "    for ii in range(neuron_start_idx, num_neurons):\n",
    "        \n",
    "        for tt in range(num_timebins):\n",
    "            \n",
    "            curr_rho = rho_i_t(u=u, v=v, delta_u=delta_u, i=ii, t=tt)\n",
    "            curr_x = X[ii, tt]\n",
    "            \n",
    "            curr_likelihood = np.log(curr_rho) * curr_x - curr_rho\n",
    "            likelihoods.append(curr_likelihood)\n",
    "            \n",
    "    return np.sum(likelihoods)\n",
    "\n",
    "def visible_weight_gradient(X, i, j, tau_val, t, t_val, u):\n",
    "    ## loop over time bins\n",
    "    timebin_summands = []\n",
    "    for tt in range(num_timebins):\n",
    "\n",
    "        tt_val = tt / 1000.\n",
    "\n",
    "        curr_phi_j_t = phi_j_t(X=data, j=j, t=t, t_val=t_val, tau_val=tau_val)\n",
    "\n",
    "        x_minus_rho = data[i, t] - rho_i_t(u=u, v=v, t=t, i=ii, delta_u=delta_u)\n",
    "\n",
    "        summand = curr_phi_j_t * x_minus_rho\n",
    "        timebin_summands.append(summand)\n",
    "\n",
    "    weight_gradient = np.sum(timebin_summands)\n",
    "    return weight_gradient\n",
    "\n",
    "def update_membrane_potential(X, t, tau_val1, tau_val2, weights):\n",
    "    \n",
    "    tt_val = t / 1000.\n",
    "    \n",
    "    cumulative_time_array = np.arange(0, tt + 1) / 1000.\n",
    "    phi_unscaled = phi_t(X=X, t=t, t_val=tt_val, tau_val=tau_val1)\n",
    "    phi = np.dot(weights[ii, :], phi_unscaled)\n",
    "\n",
    "    eta = eta_i_t(X=X, tau_val=tau_val2, t=t, t_val=tt_val, i=ii, eta_0=eta_0)\n",
    "    \n",
    "    return phi + eta\n"
   ]
  },
  {
   "cell_type": "code",
   "execution_count": null,
   "metadata": {},
   "outputs": [],
   "source": []
  },
  {
   "cell_type": "code",
   "execution_count": null,
   "metadata": {},
   "outputs": [],
   "source": []
  },
  {
   "cell_type": "code",
   "execution_count": 270,
   "metadata": {},
   "outputs": [],
   "source": [
    "num_visible_neurons = 9\n",
    "num_hidden_neurons = 9\n",
    "num_neurons = num_visible_neurons + num_hidden_neurons\n",
    "num_timebins = 300\n",
    "num_iter = 5\n",
    "print_iter = 10\n",
    "\n",
    "tau = 0.01\n",
    "eta_0 = 0.1\n",
    "tau_adapt = 0.01\n",
    "rho_0 = 1\n",
    "v = 0\n",
    "delta_u = 1\n",
    "mu_M = 1e-6\n",
    "mu_Q = 1e-6\n",
    "tau_G = 0.01\n",
    "tau_baseline = 0.1\n",
    "dt = 0.001\n",
    "\n",
    "## Generate synthetic data\n",
    "data = np.random.binomial(n = 1, p = 0.1, size = [num_neurons, num_timebins])\n",
    "true_weights = np.random.normal(loc=0, scale=0.1, size = [num_neurons, num_neurons]) # not used currently, but one could do a simulation to see if the true weights are recovered\n",
    "\n",
    "\n"
   ]
  },
  {
   "cell_type": "code",
   "execution_count": 271,
   "metadata": {},
   "outputs": [],
   "source": [
    "M_weights = np.random.normal(loc=0, scale=0.01, size = [num_neurons, num_neurons])\n",
    "Q_weights = np.random.normal(loc=0, scale=0.01, size = [num_neurons, num_neurons])\n",
    "\n",
    "# no connections hidden->visible or visible->viisble\n",
    "# index [i, j] is weight from j to i (following paper's lead on this)\n",
    "Q_weights[:num_visible_neurons, :] = np.nan\n",
    "\n",
    "M_potentials = np.zeros((num_neurons, num_timebins))\n",
    "Q_potentials = np.zeros((num_neurons, num_timebins))"
   ]
  },
  {
   "cell_type": "code",
   "execution_count": 272,
   "metadata": {},
   "outputs": [
    {
     "data": {
      "text/plain": [
       "<matplotlib.axes._subplots.AxesSubplot at 0x123270250>"
      ]
     },
     "execution_count": 272,
     "metadata": {},
     "output_type": "execute_result"
    },
    {
     "data": {
      "image/png": "[encoded data removed]",
      "text/plain": [
       "<Figure size 1080x72 with 2 Axes>"
      ]
     },
     "metadata": {
      "needs_background": "light"
     },
     "output_type": "display_data"
    }
   ],
   "source": [
    "data = staircase(num_neurons=num_neurons, num_timebins=num_timebins)\n",
    "\n",
    "fig, ax = plt.subplots(figsize=(15,1))  \n",
    "sns.heatmap(data)"
   ]
  },
  {
   "cell_type": "code",
   "execution_count": 273,
   "metadata": {},
   "outputs": [],
   "source": [
    "# for iter_num in range(1):\n",
    "    \n",
    "#     ### UPDATE MEMBRANE POTENTIALS\n",
    "    \n",
    "#     # Update membrane potential for Q-network\n",
    "#     for ii in range(num_visible_neurons, num_neurons):\n",
    "                \n",
    "#         for tt in range(num_timebins):\n",
    "            \n",
    "#             potential_update = update_membrane_potential(X=data, t=tt, tau_val1=tau, tau_val2=tau_adapt, weights=Q_weights)\n",
    "\n",
    "#             Q_potentials[ii, tt] = potential_update\n",
    "            \n",
    "            \n",
    "#     # Update weights for Q-network\n",
    "    \n",
    "#     if iter_num == 0:\n",
    "#         free_energy_stabilizer = 0\n",
    "#     else:\n",
    "#         free_energy_stabilizer = np.mean(free_energy_trace)\n",
    "    \n",
    "#     for ii in range(num_visible_neurons, num_neurons):\n",
    "#         for jj in range(num_neurons):\n",
    "            \n",
    "#             Q_weight_gradient_without_free_energy = visible_weight_gradient(X=data, i=ii, j=jj, tau_val=tau, t=tt, t_val=tt_val, u=Q_potentials)\n",
    "            \n",
    "#             # calculate free energy\n",
    "#             M_likelihood = log_likelihood(X=data, u=M_potentials)\n",
    "#             Q_likelihood = log_likelihood(X=data, u=Q_potentials, neuron_start_idx=num_visible_neurons)\n",
    "#             free_energy = Q_likelihood - M_likelihood\n",
    "#             free_energy_trace.append(free_energy)\n",
    "            \n",
    "#             # final gradient\n",
    "#             weight_gradient = (free_energy - free_energy_stabilizer) * Q_weight_gradient_without_free_energy\n",
    "            \n",
    "#             # update\n",
    "#             Q_weights[ii, jj] += -mu_Q * weight_gradient"
   ]
  },
  {
   "cell_type": "code",
   "execution_count": null,
   "metadata": {},
   "outputs": [],
   "source": []
  },
  {
   "cell_type": "code",
   "execution_count": 274,
   "metadata": {},
   "outputs": [
    {
     "name": "stdout",
     "output_type": "stream",
     "text": [
      "M: -5279.24980098\n",
      "Q: -5273.77921632\n",
      "total potentials: -987.883058256\n",
      "2705.4705846550187 2000\n",
      "M: -5196.63937941\n",
      "Q: -5286.55074219\n",
      "total potentials: -944.540087599\n",
      "2610.088637223738 2705.4705846550187\n",
      "M: -5128.19809989\n",
      "Q: -8917.57238264\n",
      "total potentials: -5339.34512008\n",
      "-1089.3742827529722 2657.779610939378\n"
     ]
    },
    {
     "name": "stderr",
     "output_type": "stream",
     "text": [
      "/Users/aj13/Desktop/variational_spiking_networks/venv/lib/python2.7/site-packages/ipykernel_launcher.py:46: RuntimeWarning: divide by zero encountered in log\n",
      "/Users/aj13/Desktop/variational_spiking_networks/venv/lib/python2.7/site-packages/ipykernel_launcher.py:46: RuntimeWarning: invalid value encountered in double_scalars\n"
     ]
    },
    {
     "name": "stdout",
     "output_type": "stream",
     "text": [
      "M: -5070.86463764\n",
      "Q: nan\n",
      "total potentials: -874401.115903\n",
      "nan 1408.728313041928\n",
      "M: -5022.4325954\n",
      "Q: nan\n",
      "total potentials: nan\n",
      "nan nan\n"
     ]
    }
   ],
   "source": [
    "likelihood_trace = []\n",
    "M_potential_trace = []\n",
    "M_weight_trace = []\n",
    "free_energy_trace = []\n",
    "for iter_num in range(num_iter):\n",
    "    \n",
    "    ### UPDATE MEMBRANE POTENTIALS\n",
    "    \n",
    "    ## Update membrane potential for M-network\n",
    "    for ii in range(num_neurons):\n",
    "        \n",
    "        # loop over time bins\n",
    "        for tt in range(num_timebins):\n",
    "            \n",
    "            potential_update = update_membrane_potential(X=data, t=tt, tau_val1=tau, tau_val2=tau_adapt, weights=M_weights)\n",
    "\n",
    "            M_potentials[ii, tt] = potential_update\n",
    "            \n",
    "    M_potential_trace.append(M_potentials)\n",
    "            \n",
    "    # Update membrane potential for Q-network\n",
    "    for ii in range(num_visible_neurons, num_neurons):\n",
    "                \n",
    "        for tt in range(num_timebins):\n",
    "            \n",
    "            potential_update = update_membrane_potential(X=data, t=tt, tau_val1=tau, tau_val2=tau_adapt, weights=Q_weights)\n",
    "\n",
    "            Q_potentials[ii, tt] = potential_update\n",
    "            \n",
    "            \n",
    "    ### UPDATE SYNAPTIC WEIGHTS\n",
    "    \n",
    "    # Update weights for M-network\n",
    "    for ii in range(num_neurons):\n",
    "        for jj in range(num_neurons):\n",
    "            \n",
    "            M_weight_gradient = visible_weight_gradient(X=data, i=ii, j=jj, tau_val=tau, t=tt, t_val=tt_val, u=M_potentials)\n",
    "            M_weights[ii, jj] += mu_M * M_weight_gradient\n",
    "            \n",
    "    M_weight_trace.append(M_weights)\n",
    "            \n",
    "    \n",
    "    # Update weights for Q-network\n",
    "    \n",
    "    if iter_num == 0:\n",
    "        free_energy_stabilizer = 2000\n",
    "    else:\n",
    "        free_energy_stabilizer = np.mean(free_energy_trace)\n",
    "    \n",
    "    for ii in range(num_visible_neurons, num_neurons):\n",
    "        for jj in range(num_neurons):\n",
    "            \n",
    "            Q_weight_gradient_without_free_energy = visible_weight_gradient(X=data, i=ii, j=jj, tau_val=tau, t=tt, t_val=tt_val, u=Q_potentials)\n",
    "            \n",
    "            # calculate free energy\n",
    "            M_likelihood = log_likelihood(X=data, u=M_potentials)\n",
    "            Q_likelihood = log_likelihood(X=data, u=Q_potentials, neuron_start_idx=num_visible_neurons)\n",
    "            free_energy = Q_likelihood - M_likelihood\n",
    "            free_energy_trace.append(free_energy)\n",
    "            \n",
    "            # final gradient\n",
    "            if iter_num == 0:\n",
    "                weight_gradient = 1 * Q_weight_gradient_without_free_energy\n",
    "            else:\n",
    "                weight_gradient = (free_energy - free_energy_stabilizer) * Q_weight_gradient_without_free_energy\n",
    "            \n",
    "            # update\n",
    "            Q_weights[ii, jj] += -mu_Q * weight_gradient\n",
    "            \n",
    "    curr_likelihood = log_likelihood(u=M_potentials, X=data)\n",
    "    likelihood_trace.append(curr_likelihood)\n",
    "    print 'M: {}'.format(curr_likelihood)\n",
    "    \n",
    "    curr_likelihood = log_likelihood(u=Q_potentials, X=data)\n",
    "    print 'Q: {}'.format(curr_likelihood)\n",
    "    \n",
    "    print 'total potentials: {}'.format(np.sum(Q_potentials))\n",
    "    print free_energy, free_energy_stabilizer"
   ]
  },
  {
   "cell_type": "code",
   "execution_count": 258,
   "metadata": {},
   "outputs": [
    {
     "data": {
      "text/plain": [
       "(-2.2424635484157088e+26, 2000)"
      ]
     },
     "execution_count": 258,
     "metadata": {},
     "output_type": "execute_result"
    }
   ],
   "source": [
    "free_energy, free_energy_stabilizer"
   ]
  },
  {
   "cell_type": "code",
   "execution_count": 159,
   "metadata": {},
   "outputs": [
    {
     "data": {
      "text/plain": [
       "[<matplotlib.lines.Line2D at 0x121b3f750>]"
      ]
     },
     "execution_count": 159,
     "metadata": {},
     "output_type": "execute_result"
    },
    {
     "data": {
      "image/png": "[encoded data removed]",
      "text/plain": [
       "<Figure size 432x288 with 1 Axes>"
      ]
     },
     "metadata": {
      "needs_background": "light"
     },
     "output_type": "display_data"
    }
   ],
   "source": [
    "plt.plot(likelihood_trace)"
   ]
  },
  {
   "cell_type": "code",
   "execution_count": null,
   "metadata": {},
   "outputs": [],
   "source": []
  },
  {
   "cell_type": "code",
   "execution_count": null,
   "metadata": {},
   "outputs": [],
   "source": []
  },
  {
   "cell_type": "code",
   "execution_count": 104,
   "metadata": {},
   "outputs": [],
   "source": [
    "## Generate data from learned weights\n",
    "\n",
    "simulated_potentials_visible = np.zeros((num_neurons, num_timebins))\n",
    "    \n",
    "## Simulate membrane potential\n",
    "for ii in range(num_neurons):\n",
    "\n",
    "    # loop over time bins\n",
    "    for tt in range(num_timebins):\n",
    "\n",
    "        tt_val = tt / 1000.\n",
    "\n",
    "        ## loop over neurons\n",
    "        potential_list = []\n",
    "        for jj in range(num_neurons):\n",
    "\n",
    "            curr_weight = M_weights[ii, jj] * phi_j_t(X=data, j=jj, t=tt, t_val=tt_val, tau_val=tau)\n",
    "            potential_list.append(curr_weight)\n",
    "\n",
    "        simulated_potentials_visible[ii, tt] = np.sum(potential_list) + eta_i_t(X=data, tau_val=tau_adapt, t=tt, t_val=tt_val, i=ii, eta_0=eta_0)"
   ]
  },
  {
   "cell_type": "code",
   "execution_count": 105,
   "metadata": {},
   "outputs": [
    {
     "data": {
      "image/png": "[encoded data removed]",
      "text/plain": [
       "<Figure size 1080x72 with 2 Axes>"
      ]
     },
     "metadata": {
      "needs_background": "light"
     },
     "output_type": "display_data"
    }
   ],
   "source": [
    "fig, ax = plt.subplots(figsize=(15,1))\n",
    "sns.heatmap(simulated_potentials_visible)\n",
    "plt.xlabel(\"timestep\")\n",
    "plt.ylabel(\"neuron\")\n",
    "plt.title(\"simulated membrane potentials for visible neurons\")\n",
    "plt.show()"
   ]
  },
  {
   "cell_type": "code",
   "execution_count": 106,
   "metadata": {},
   "outputs": [],
   "source": [
    "## Generate data from learned weights\n",
    "\n",
    "simulated_potentials_hidden = np.zeros((num_hidden_neurons, num_timebins))\n",
    "    \n",
    "## Simulate membrane potential\n",
    "for ii in range(num_visible_neurons, num_neurons):\n",
    "\n",
    "    # loop over time bins\n",
    "    for tt in range(num_timebins):\n",
    "\n",
    "        tt_val = tt / 1000.\n",
    "\n",
    "        ## loop over neurons\n",
    "        potential_list = []\n",
    "        for jj in range(num_neurons):\n",
    "\n",
    "            curr_weight = Q_weights[ii, jj] * phi_j_t(X=data, j=jj, t=tt, t_val=tt_val, tau_val=tau)\n",
    "            potential_list.append(curr_weight)\n",
    "\n",
    "        simulated_potentials_hidden[ii - num_visible_neurons, tt] = np.sum(potential_list) + eta_i_t(X=data, tau_val=tau_adapt, t=tt, t_val=tt_val, i=ii, eta_0=eta_0)"
   ]
  },
  {
   "cell_type": "code",
   "execution_count": 107,
   "metadata": {},
   "outputs": [
    {
     "data": {
      "image/png": "[encoded data removed]",
      "text/plain": [
       "<Figure size 1080x72 with 2 Axes>"
      ]
     },
     "metadata": {
      "needs_background": "light"
     },
     "output_type": "display_data"
    }
   ],
   "source": [
    "fig, ax = plt.subplots(figsize=(15,1))\n",
    "sns.heatmap(simulated_potentials_hidden)\n",
    "plt.xlabel(\"timestep\")\n",
    "plt.ylabel(\"neuron\")\n",
    "plt.title(\"simulated membrane potentials for hidden neurons\")\n",
    "plt.show()"
   ]
  },
  {
   "cell_type": "code",
   "execution_count": 108,
   "metadata": {},
   "outputs": [],
   "source": [
    "poisson_rates = np.zeros((num_neurons, num_timebins))\n",
    "for ii in range(num_neurons):\n",
    "    for tt in range(num_timebins):\n",
    "        poisson_rates[ii, tt] = rho_i_t(delta_u=delta_u, i=ii, t=tt, u=simulated_potentials_visible, v=v)\n"
   ]
  },
  {
   "cell_type": "code",
   "execution_count": 109,
   "metadata": {},
   "outputs": [
    {
     "data": {
      "image/png": "[encoded data removed]",
      "text/plain": [
       "<Figure size 1080x72 with 2 Axes>"
      ]
     },
     "metadata": {
      "needs_background": "light"
     },
     "output_type": "display_data"
    }
   ],
   "source": [
    "simulated_spikes = np.random.poisson(lam=poisson_rates)\n",
    "fig, ax = plt.subplots(figsize=(15,1))\n",
    "sns.heatmap((simulated_spikes >= 1).astype(int))\n",
    "plt.xlabel(\"timestep\")\n",
    "plt.ylabel(\"neuron\")\n",
    "plt.title(\"spikes from simulated model\")\n",
    "plt.show()\n",
    "plt.show()"
   ]
  },
  {
   "cell_type": "code",
   "execution_count": null,
   "metadata": {},
   "outputs": [],
   "source": []
  }
 ],
 "metadata": {
  "kernelspec": {
   "display_name": "Python 2",
   "language": "python",
   "name": "python2"
  },
  "language_info": {
   "codemirror_mode": {
    "name": "ipython",
    "version": 2
   },
   "file_extension": ".py",
   "mimetype": "text/x-python",
   "name": "python",
   "nbconvert_exporter": "python",
   "pygments_lexer": "ipython2",
   "version": "2.7.10"
  }
 },
 "nbformat": 4,
 "nbformat_minor": 2
}
