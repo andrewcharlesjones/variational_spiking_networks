{
 "cells": [
  {
   "cell_type": "code",
   "execution_count": 1,
   "metadata": {},
   "outputs": [],
   "source": [
    "import numpy as np\n",
    "import matplotlib.pyplot as plt\n",
    "import seaborn as sns\n",
    "import statsmodels.api as sm\n",
    "import pandas as pd\n",
    "from scipy import optimize"
   ]
  },
  {
   "cell_type": "code",
   "execution_count": 54,
   "metadata": {},
   "outputs": [],
   "source": [
    "## NEURON PARAMETERS\n",
    "tau = 10.\n",
    "eta_0 = 0.1\n",
    "tau_adapt = 10.\n",
    "rho_0 = 0.01\n",
    "v = 0\n",
    "delta_u = 1.\n",
    "mu_M = 0.00001\n",
    "tau_G = 10.\n",
    "tau_baseline = 100.\n",
    "dt = 1."
   ]
  },
  {
   "cell_type": "code",
   "execution_count": 55,
   "metadata": {},
   "outputs": [],
   "source": [
    "## NETWORK PARAMETERS\n",
    "\n",
    "num_neurons = 9\n",
    "num_timebins = 1000\n",
    "\n",
    "## GENERATE WEIGHTS\n",
    "weights = np.random.normal(loc = 0, scale = 0.1, size = (num_neurons, num_neurons))\n",
    "np.fill_diagonal(weights, 0)\n",
    "\n",
    "## INITIALIZE DATA\n",
    "phi = np.zeros(shape = (num_neurons, num_timebins))\n",
    "rho = np.zeros(shape = (num_neurons, num_timebins))\n",
    "eta = np.zeros(shape = (num_neurons, num_timebins))\n",
    "u = np.zeros(shape = (num_neurons, num_timebins))\n",
    "spikes = np.zeros(shape = (num_neurons, num_timebins))\n",
    "spike_probs = np.zeros(shape = (num_neurons, num_timebins))\n",
    "\n",
    "# phi[:, 0] = np.random.normal(loc = 0.0, scale = 0.1, size = num_neurons)\n",
    "phi[:, 0] = np.zeros(num_neurons)\n",
    "# eta[:, 0] = np.random.normal(loc = 0.0, scale = 0.1, size = num_neurons)\n",
    "eta[:, 0] = np.zeros(num_neurons)\n",
    "u[:, 0] = np.matmul(weights, phi[:, 0]) - eta[:, 0]\n",
    "rho[:, 0] = rho_0 * np.exp(u[:, 0])\n",
    "spike_probs[:, 0] = 1-np.exp(-rho[:, 0])\n",
    "spikes[:, 0] = np.random.binomial(n = 1, p = spike_probs[:, 0])\n",
    "\n"
   ]
  },
  {
   "cell_type": "code",
   "execution_count": null,
   "metadata": {},
   "outputs": [],
   "source": []
  },
  {
   "cell_type": "code",
   "execution_count": 56,
   "metadata": {},
   "outputs": [],
   "source": [
    "# RANDOM SPIKES\n",
    "\n",
    "for tt in range(1, num_timebins):\n",
    "                \n",
    "    dphi = dt * (1 / tau) * (spikes[:, tt - 1] - phi[:, tt - 1])\n",
    "    deta = dt * (1 / tau_adapt) * (spikes[:, tt - 1] - eta[:, tt - 1])\n",
    "\n",
    "    phi[:, tt] = phi[:, tt - 1] + dphi\n",
    "    eta[:, tt] = eta[:, tt - 1] + deta\n",
    "\n",
    "    total_potential = np.matmul(weights, phi[:, tt]) - eta_0 * eta[:, tt]\n",
    "    u[:, tt] = total_potential\n",
    "\n",
    "    rho[:, tt] = rho_0 * np.exp((u[:, tt] - v) / delta_u)\n",
    "\n",
    "#         spikes[:, tt] = np.random.poisson(rho[:, tt])\n",
    "    spike_probs[:, tt] = 1-np.exp(-dt*rho[:, tt])\n",
    "    spikes[:, tt] = np.random.binomial(n = 1, p = spike_probs[:, tt])"
   ]
  },
  {
   "cell_type": "code",
   "execution_count": null,
   "metadata": {},
   "outputs": [],
   "source": []
  },
  {
   "cell_type": "code",
   "execution_count": null,
   "metadata": {},
   "outputs": [],
   "source": []
  },
  {
   "cell_type": "code",
   "execution_count": 98,
   "metadata": {},
   "outputs": [],
   "source": [
    "## STAIRCASE PATTERN\n",
    "neuron_block_size = np.floor(num_neurons / 3)\n",
    "curr_neuron_block = 0\n",
    "interval_idx = 0\n",
    "timebin_counter = 0\n",
    "\n",
    "gaussian_intervals = np.random.normal(size = 1000, loc=30, scale=10).astype(int)\n",
    "\n",
    "spikes[int(curr_neuron_block * neuron_block_size):int((curr_neuron_block + 1) * neuron_block_size), 0] = 1\n",
    "    \n",
    "for tt in range(1, num_timebins):\n",
    "                \n",
    "    dphi = dt * (1 / tau) * (spikes[:, tt - 1] - phi[:, tt - 1])\n",
    "    deta = dt * (1 / tau_adapt) * (spikes[:, tt - 1] - eta[:, tt - 1])\n",
    "\n",
    "    phi[:, tt] = phi[:, tt - 1] + dphi\n",
    "    eta[:, tt] = eta[:, tt - 1] + deta\n",
    "\n",
    "    total_potential = np.matmul(weights, phi[:, tt]) - eta_0 * eta[:, tt]\n",
    "    u[:, tt] = total_potential\n",
    "    \n",
    "    u[int(curr_neuron_block * neuron_block_size):int((curr_neuron_block + 1) * neuron_block_size), tt] += 3.0\n",
    "    nonblock_idx = np.delete(np.arange(num_neurons), np.arange(int(curr_neuron_block * neuron_block_size), int((curr_neuron_block + 1) * neuron_block_size)))\n",
    "    u[nonblock_idx, tt] -= 4.0\n",
    "\n",
    "#     rho[:, tt] = rho_0 * np.exp((u[:, tt] - v) / delta_u)\n",
    "    rho[:, tt] = 1 / (1 + np.exp(-u[:, tt])) # np.exp((u[:, tt] - v) / delta_u)\n",
    "\n",
    "\n",
    "#     rho[int(curr_neuron_block * neuron_block_size):int((curr_neuron_block + 1) * neuron_block_size), tt] += 4.0\n",
    "#     nonblock_idx = np.delete(np.arange(num_neurons), np.arange(int(curr_neuron_block * neuron_block_size), int((curr_neuron_block + 1) * neuron_block_size)))\n",
    "#     rho[nonblock_idx, tt] = 0.05 #rho_0 #np.maximum(rho[nonblock_idx, tt] - .1, 0)\n",
    "\n",
    "\n",
    "#         spikes[:, tt] = np.random.poisson(rho[:, tt])\n",
    "    spike_probs[:, tt] = rho[:, tt] #1-np.exp(-dt*rho[:, tt])\n",
    "    spikes[:, tt] = np.random.binomial(n = 1, p = spike_probs[:, tt])\n",
    "    \n",
    "    \n",
    "    \n",
    "        \n",
    "    timebin_counter += 1\n",
    "    if timebin_counter == gaussian_intervals[interval_idx]:\n",
    "        interval_idx += 1\n",
    "        timebin_counter = 0\n",
    "        if curr_neuron_block < 2:\n",
    "            curr_neuron_block += 1\n",
    "        else:\n",
    "            curr_neuron_block = 0"
   ]
  },
  {
   "cell_type": "code",
   "execution_count": 99,
   "metadata": {},
   "outputs": [
    {
     "data": {
      "text/plain": [
       "0.9999546021312976"
      ]
     },
     "execution_count": 99,
     "metadata": {},
     "output_type": "execute_result"
    }
   ],
   "source": [
    "1 / (1 + np.exp(-10))"
   ]
  },
  {
   "cell_type": "code",
   "execution_count": 100,
   "metadata": {},
   "outputs": [
    {
     "data": {
      "image/png": "[encoded data removed]",
      "text/plain": [
       "<matplotlib.figure.Figure at 0x111d623d0>"
      ]
     },
     "metadata": {
      "needs_background": "light"
     },
     "output_type": "display_data"
    }
   ],
   "source": [
    "## HEATMAP DATA\n",
    "fig, ax = plt.subplots(figsize=(20, 3))\n",
    "sns.heatmap(spikes[:, :400])\n",
    "plt.xlabel(\"timestep\")\n",
    "plt.ylabel(\"neuron index\")\n",
    "plt.show()"
   ]
  },
  {
   "cell_type": "code",
   "execution_count": 101,
   "metadata": {},
   "outputs": [
    {
     "data": {
      "image/png": "[encoded data removed]",
      "text/plain": [
       "<matplotlib.figure.Figure at 0x111cafc90>"
      ]
     },
     "metadata": {
      "needs_background": "light"
     },
     "output_type": "display_data"
    }
   ],
   "source": [
    "## HEATMAP DATA\n",
    "fig, ax = plt.subplots(figsize=(20, 3))\n",
    "sns.heatmap(u[:, :400])\n",
    "plt.xlabel(\"timestep\")\n",
    "plt.ylabel(\"neuron index\")\n",
    "plt.show()"
   ]
  },
  {
   "cell_type": "code",
   "execution_count": 109,
   "metadata": {},
   "outputs": [],
   "source": [
    "## LOG LIKELIHOOD FUNCTION\n",
    "def log_likelihood(curr_weights):\n",
    "\n",
    "#     total_potential = np.matmul(curr_weights, phi) - eta_0 * eta[0, :]\n",
    "\n",
    "#     rho[0, :] = rho_0 * np.exp((total_potential - v) / delta_u)\n",
    "#     LL = np.sum(np.multiply(np.log(rho[0, :]), spikes[0, :]) - rho[0, :]) * dt\n",
    "\n",
    "    curr_weights = np.reshape(curr_weights, [num_neurons, num_neurons])\n",
    "\n",
    "    total_potential = np.matmul(curr_weights, phi) - eta_0 * eta\n",
    "\n",
    "    rho = rho_0 * np.exp((total_potential - v) / delta_u)\n",
    "    LL = np.sum(np.multiply(spikes, np.log(rho)) * dt + np.multiply((1 - spikes), np.log(1 - rho * dt)))\n",
    "\n",
    "    return -LL"
   ]
  },
  {
   "cell_type": "code",
   "execution_count": 110,
   "metadata": {},
   "outputs": [
    {
     "data": {
      "text/plain": [
       "-1250.6384045848354"
      ]
     },
     "execution_count": 110,
     "metadata": {},
     "output_type": "execute_result"
    }
   ],
   "source": [
    "np.sum(np.multiply(spikes, np.log(rho)) * dt + np.multiply((1 - spikes), np.log(1 - rho * dt)))"
   ]
  },
  {
   "cell_type": "code",
   "execution_count": 111,
   "metadata": {},
   "outputs": [
    {
     "name": "stderr",
     "output_type": "stream",
     "text": [
      "/usr/local/lib/python2.7/site-packages/ipykernel_launcher.py:14: RuntimeWarning: invalid value encountered in log\n",
      "  \n",
      "/usr/local/lib/python2.7/site-packages/ipykernel_launcher.py:13: RuntimeWarning: overflow encountered in exp\n",
      "  del sys.path[0]\n",
      "/usr/local/lib/python2.7/site-packages/ipykernel_launcher.py:14: RuntimeWarning: invalid value encountered in multiply\n",
      "  \n"
     ]
    },
    {
     "name": "stdout",
     "output_type": "stream",
     "text": [
      "Warning: Desired error not necessarily achieved due to precision loss.\n",
      "         Current function value: nan\n",
      "         Iterations: 1\n",
      "         Function evaluations: 9296\n",
      "         Gradient evaluations: 112\n"
     ]
    }
   ],
   "source": [
    "## USE SCIPY OPTIMIZE TO LEARN WEIGHTS\n",
    "x0 = np.random.normal(loc=0, scale=0.1, size=num_neurons*num_neurons)\n",
    "res = optimize.minimize(log_likelihood, x0, options={'disp': True}, tol=1e-5) #, method = \"BFGS\")\n",
    "scipy_learned_weights = np.reshape(res.x, [num_neurons, num_neurons])"
   ]
  },
  {
   "cell_type": "code",
   "execution_count": 18,
   "metadata": {},
   "outputs": [
    {
     "name": "stdout",
     "output_type": "stream",
     "text": [
      "LL: nan, MSE: 1069694.73694\n"
     ]
    },
    {
     "name": "stderr",
     "output_type": "stream",
     "text": [
      "/usr/local/lib/python2.7/site-packages/ipykernel_launcher.py:14: RuntimeWarning: invalid value encountered in log\n",
      "  \n"
     ]
    }
   ],
   "source": [
    "print \"LL: {}, MSE: {}\".format(log_likelihood(scipy_learned_weights), np.sum((scipy_learned_weights - weights)**2))"
   ]
  },
  {
   "cell_type": "code",
   "execution_count": 445,
   "metadata": {},
   "outputs": [
    {
     "data": {
      "text/plain": [
       "<matplotlib.axes._subplots.AxesSubplot at 0x119318e50>"
      ]
     },
     "execution_count": 445,
     "metadata": {},
     "output_type": "execute_result"
    },
    {
     "data": {
      "image/png": "[encoded data removed]",
      "text/plain": [
       "<matplotlib.figure.Figure at 0x1193ac1d0>"
      ]
     },
     "metadata": {
      "needs_background": "light"
     },
     "output_type": "display_data"
    }
   ],
   "source": [
    "sns.heatmap(np.reshape(scipy_learned_weights, [num_neurons, num_neurons]))"
   ]
  },
  {
   "cell_type": "code",
   "execution_count": 447,
   "metadata": {
    "scrolled": true
   },
   "outputs": [],
   "source": [
    "# ## LEARN WEIGHTS VIA GRADIENT DESCENT\n",
    "# from autograd import grad\n",
    "# import autograd.numpy as np\n",
    "\n",
    "# x0 = np.random.normal(loc=0, scale=0.1, size=[num_neurons, num_neurons])\n",
    "# learned_weights_GD = x0\n",
    "\n",
    "# # AUTOGRAD GRADIENT\n",
    "# grad_LL = grad(log_likelihood)\n",
    "\n",
    "# LL_trace = []\n",
    "# for inum in range(40000):\n",
    "#     curr_LL = log_likelihood(learned_weights_GD)\n",
    "#     LL_trace.append(curr_LL)\n",
    "#     M_weights_gradients = grad_LL(learned_weights_GD)\n",
    "\n",
    "#     learned_weights_GD -= 0.001 * M_weights_gradients\n",
    "#     if inum % 3000 == 0:\n",
    "#         print curr_LL\n",
    "#         print np.sum((learned_weights_GD - weights)**2)"
   ]
  },
  {
   "cell_type": "code",
   "execution_count": 448,
   "metadata": {},
   "outputs": [],
   "source": [
    "# sns.heatmap(np.reshape(learned_weights_GD, [num_neurons, num_neurons]))"
   ]
  },
  {
   "cell_type": "code",
   "execution_count": null,
   "metadata": {},
   "outputs": [],
   "source": []
  },
  {
   "cell_type": "code",
   "execution_count": 449,
   "metadata": {},
   "outputs": [],
   "source": [
    "# plt.plot(LL_trace)\n",
    "# plt.show()"
   ]
  },
  {
   "cell_type": "code",
   "execution_count": 450,
   "metadata": {},
   "outputs": [],
   "source": [
    "# print \"LL: {}, MSE: {}\".format(log_likelihood(learned_weights_GD), np.sum((learned_weights_GD - weights)**2))"
   ]
  },
  {
   "cell_type": "code",
   "execution_count": null,
   "metadata": {},
   "outputs": [],
   "source": []
  },
  {
   "cell_type": "code",
   "execution_count": 459,
   "metadata": {},
   "outputs": [],
   "source": [
    "## SIMULATE NETWORK WITH LEARNED WEIGHTS\n",
    "\n",
    "weights_to_use = scipy_learned_weights\n",
    "# weights_to_use = learned_weights_GD\n",
    "curr_neuron_block = 0\n",
    "spikes[int(curr_neuron_block * neuron_block_size):int((curr_neuron_block + 1) * neuron_block_size), 0] = 1\n",
    "# phi[int(curr_neuron_block * neuron_block_size):int((curr_neuron_block + 1) * neuron_block_size), 0] = 4\n",
    "# eta[int(curr_neuron_block * neuron_block_size):int((curr_neuron_block + 1) * neuron_block_size), 0] = 4\n",
    "# u[int(curr_neuron_block * neuron_block_size):int((curr_neuron_block + 1) * neuron_block_size), 0] = 10\n",
    "\n",
    "\n",
    "for tt in range(1, num_timebins):\n",
    "                \n",
    "    dphi = dt * (1 / tau) * (spikes[:, tt - 1] - phi[:, tt - 1])\n",
    "    deta = dt * (1 / tau_adapt) * (spikes[:, tt - 1] - eta[:, tt - 1])\n",
    "\n",
    "    phi[:, tt] = phi[:, tt - 1] + dphi\n",
    "    eta[:, tt] = eta[:, tt - 1] + deta\n",
    "\n",
    "    total_potential = np.matmul(weights_to_use, phi[:, tt]) - eta_0 * eta[:, tt]\n",
    "    \n",
    "    u[:, tt] = total_potential \n",
    "\n",
    "    rho[:, tt] = rho_0 * np.exp((u[:, tt] - v) / delta_u)\n",
    "\n",
    "#         spikes[:, tt] = np.random.poisson(rho[:, tt])\n",
    "    spike_probs[:, tt] = 1-np.exp(-dt*rho[:, tt])\n",
    "    spikes[:, tt] = np.random.binomial(n = 1, p = spike_probs[:, tt])"
   ]
  },
  {
   "cell_type": "code",
   "execution_count": 460,
   "metadata": {},
   "outputs": [
    {
     "data": {
      "image/png": "[encoded data removed]",
      "text/plain": [
       "<matplotlib.figure.Figure at 0x11aa86350>"
      ]
     },
     "metadata": {
      "needs_background": "light"
     },
     "output_type": "display_data"
    },
    {
     "data": {
      "image/png": "[encoded data removed]",
      "text/plain": [
       "<matplotlib.figure.Figure at 0x11aa867d0>"
      ]
     },
     "metadata": {
      "needs_background": "light"
     },
     "output_type": "display_data"
    }
   ],
   "source": [
    "fig, ax = plt.subplots(figsize=(20, 3))\n",
    "sns.heatmap(spikes[:, :400])\n",
    "plt.xlabel(\"timestep\")\n",
    "plt.ylabel(\"neuron index\")\n",
    "plt.show()\n",
    "\n",
    "fig, ax = plt.subplots(figsize=(20, 3))\n",
    "sns.heatmap(rho[:, :400])\n",
    "plt.xlabel(\"timestep\")\n",
    "plt.ylabel(\"neuron index\")\n",
    "plt.show()"
   ]
  },
  {
   "cell_type": "code",
   "execution_count": null,
   "metadata": {},
   "outputs": [],
   "source": []
  },
  {
   "cell_type": "code",
   "execution_count": null,
   "metadata": {},
   "outputs": [],
   "source": []
  },
  {
   "cell_type": "code",
   "execution_count": null,
   "metadata": {},
   "outputs": [],
   "source": []
  },
  {
   "cell_type": "code",
   "execution_count": null,
   "metadata": {},
   "outputs": [],
   "source": []
  },
  {
   "cell_type": "code",
   "execution_count": null,
   "metadata": {},
   "outputs": [],
   "source": []
  }
 ],
 "metadata": {
  "kernelspec": {
   "display_name": "Python 2",
   "language": "python",
   "name": "python2"
  },
  "language_info": {
   "codemirror_mode": {
    "name": "ipython",
    "version": 2
   },
   "file_extension": ".py",
   "mimetype": "text/x-python",
   "name": "python",
   "nbconvert_exporter": "python",
   "pygments_lexer": "ipython2",
   "version": "2.7.13"
  }
 },
 "nbformat": 4,
 "nbformat_minor": 2
}
