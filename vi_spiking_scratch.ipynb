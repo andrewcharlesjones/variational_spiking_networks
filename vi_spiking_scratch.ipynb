{
 "cells": [
  {
   "cell_type": "code",
   "execution_count": 1,
   "metadata": {},
   "outputs": [],
   "source": [
    "import numpy\n",
    "import matplotlib.pyplot as plt\n",
    "from scipy.stats import bernoulli\n",
    "import seaborn as sns"
   ]
  },
  {
   "cell_type": "code",
   "execution_count": 2,
   "metadata": {},
   "outputs": [],
   "source": [
    "def phi_j_t(X, j, t, t_val, tau_val):\n",
    "    \n",
    "    cumulative_time_array = np.arange(0, tt + 1) / 1000.\n",
    "    phi = np.dot(np.exp(-(t_val - cumulative_time_array) / tau_val), X[j, :tt + 1])\n",
    "    return phi\n",
    "\n",
    "def phi_t(X, t, t_val, tau_val):\n",
    "    \n",
    "    cumulative_time_array = np.arange(0, t + 1) / 1000.\n",
    "    phi = np.dot(np.exp(-(t_val - cumulative_time_array) / tau_val), data[:, :t + 1].transpose())\n",
    "    return phi\n",
    "\n",
    "\n",
    "def eta_i_t(X, i, t, t_val, tau_val, eta_0):\n",
    "    \n",
    "    cumulative_time_array = np.arange(0, tt + 1) / 1000.\n",
    "    phi = np.dot(np.exp(-(t_val - cumulative_time_array) / tau_val), X[i, :tt + 1])\n",
    "    return -eta_0 * phi\n",
    "\n",
    "\n",
    "def rho_i_t(u, i, t, v, delta_u):\n",
    "    \n",
    "    return rho_0 * np.exp(u[i, t] - v / delta_u)\n",
    "\n"
   ]
  },
  {
   "cell_type": "code",
   "execution_count": 4,
   "metadata": {},
   "outputs": [],
   "source": [
    "num_neurons = 15\n",
    "num_timebins = 99\n",
    "num_iter = 40\n",
    "\n",
    "tau = 0.01\n",
    "eta_0 = 0.1\n",
    "tau_adapt = 0.01\n",
    "rho_0 = 1\n",
    "v = 0\n",
    "delta_u = 1\n",
    "mu_M = 0.000001\n",
    "mu_Q = 0.00001\n",
    "tau_G = 0.01\n",
    "tau_baseline = 0.1\n",
    "\n",
    "## Generate synthetic data\n",
    "data = np.random.binomial(n = 1, p = 0.1, size = [num_neurons, num_timebins])\n",
    "true_weights = np.random.normal(loc=0, scale=0.1, size = [num_neurons, num_neurons])\n",
    "learned_weights = np.random.normal(loc=0, scale=0.1, size = [num_neurons, num_neurons])\n",
    "\n",
    "## Initialize arrays\n",
    "potentials = np.zeros((num_neurons, num_timebins))\n",
    "\n"
   ]
  },
  {
   "cell_type": "code",
   "execution_count": null,
   "metadata": {},
   "outputs": [],
   "source": []
  },
  {
   "cell_type": "code",
   "execution_count": 5,
   "metadata": {},
   "outputs": [],
   "source": [
    "## Generate synthetic spike counts\n",
    "\n",
    "\n",
    "# ## From weight matrix\n",
    "# for tt in range(num_timebins):\n",
    "#     for ii in range(num_neurons):\n",
    "        \n",
    "#         potential_list = []\n",
    "#         for jj in range(num_neurons):\n",
    "#             curr_cumulative_time_array = np.arange(0, tt + 1) # should this be tt + 1?\n",
    "#             first_term = true_weights[ii, jj] * np.dot(np.exp(-(tt - curr_cumulative_time_array) / tau), data[jj, :tt + 1])\n",
    "#             second_term = -eta_0 * np.dot(np.exp(-(tt - curr_cumulative_time_array) / tau_adapt), data[jj, :tt + 1])\n",
    "#             curr_pot = first_term + second_term\n",
    "#             potential_list.append(curr_pot)\n",
    "\n",
    "#         potentials[ii, tt] = np.sum(potential_list)\n",
    "        \n",
    "# data = np.random.poisson(lam=np.exp(potentials - v / delta_u))\n",
    "\n",
    "\n",
    "\n",
    "## staircase\n",
    "\n",
    "neuron_block_size = np.floor(num_neurons / 3)\n",
    "data = np.zeros((num_neurons, num_timebins))\n",
    "curr_neuron_block = 0\n",
    "\n",
    "curr_stair_idx = 0\n",
    "while curr_stair_idx <= num_timebins:\n",
    "    curr_stair_length = np.int(np.random.uniform(low=10, high = 30))\n",
    "    data[int(curr_neuron_block * neuron_block_size):int((curr_neuron_block + 1)* neuron_block_size), curr_stair_idx:curr_stair_idx + curr_stair_length] = 1\n",
    "    if curr_neuron_block < 2:\n",
    "        curr_neuron_block += 1\n",
    "    else:\n",
    "        curr_neuron_block = 0\n",
    "    curr_stair_idx += curr_stair_length\n",
    "    \n",
    "# randomly flip some bits\n",
    "bit_flip_mask = np.random.binomial(n = 1, p = 0.05, size=(num_neurons, num_timebins))\n",
    "data[bit_flip_mask.astype(bool)] = np.abs(data[bit_flip_mask.astype(bool)] - 1)"
   ]
  },
  {
   "cell_type": "code",
   "execution_count": 6,
   "metadata": {},
   "outputs": [
    {
     "data": {
      "text/plain": [
       "<matplotlib.axes._subplots.AxesSubplot at 0x114a669d0>"
      ]
     },
     "execution_count": 6,
     "metadata": {},
     "output_type": "execute_result"
    },
    {
     "data": {
      "image/png": "[encoded data removed]",
      "text/plain": [
       "<matplotlib.figure.Figure at 0x114a34150>"
      ]
     },
     "metadata": {
      "needs_background": "light"
     },
     "output_type": "display_data"
    }
   ],
   "source": [
    "fig, ax = plt.subplots(figsize=(15,1))  \n",
    "sns.heatmap(data)"
   ]
  },
  {
   "cell_type": "code",
   "execution_count": 7,
   "metadata": {},
   "outputs": [
    {
     "name": "stdout",
     "output_type": "stream",
     "text": [
      "7.649715679487313\n",
      "0.4264355379163972\n",
      "0.7309560606859196\n",
      "0.3628468373228265\n",
      "0.5265534283989539\n",
      "0.34912270588484984\n",
      "0.4528967147227505\n",
      "0.3490868796313295\n",
      "0.41835233158576207\n",
      "0.3527882126605744\n",
      "0.3999512593818647\n",
      "0.3569357053217478\n",
      "0.3893539421203515\n",
      "0.3605062778839777\n",
      "0.38292027492625264\n",
      "0.3632968631101582\n",
      "0.37886601142947596\n",
      "0.36538055577093637\n",
      "0.3762410071488052\n",
      "0.36690000770550407\n",
      "0.3745066952056135\n",
      "0.36799411104991836\n",
      "0.37334291337143044\n",
      "0.3687767989305604\n",
      "0.372552298096196\n",
      "0.3693350225357333\n",
      "0.3720097624361838\n",
      "0.3697327935633085\n",
      "0.37163431024002086\n",
      "0.37001633794273314\n",
      "0.37137260222610285\n",
      "0.37021869183310585\n",
      "0.37118903035204803\n",
      "0.37036333813534855\n",
      "0.3710595535212134\n",
      "0.37046692922241753\n",
      "0.3709677837175716\n",
      "0.37054126743913496\n",
      "0.37090245651448606\n",
      "0.37059472297237406\n"
     ]
    }
   ],
   "source": [
    "mse_trace = []\n",
    "# curr_mse = np.mean((true_weights - learned_weights)**2)\n",
    "# mse_trace.append(curr_mse)\n",
    "# print curr_mse\n",
    "for _ in range(num_iter):\n",
    "    \n",
    "    ## Update membrane potential\n",
    "    for ii in range(num_neurons):\n",
    "        \n",
    "        # loop over time bins\n",
    "        for tt in range(num_timebins):\n",
    "            \n",
    "            tt_val = tt / 1000.\n",
    "            \n",
    "            ## loop over neurons\n",
    "            cumulative_time_array = np.arange(0, tt + 1) / 1000.\n",
    "            phi_unscaled = phi_t(X=data, t=tt, t_val=tt_val, tau_val=tau)\n",
    "            phi = np.dot(learned_weights[ii, :], phi_unscaled)\n",
    "            \n",
    "            eta = eta_i_t(X=data, tau_val=tau_adapt, t=tt, t_val=tt_val, i=ii, eta_0=eta_0)\n",
    "            potentials[ii, tt] = phi + eta\n",
    "            \n",
    "    \n",
    "    ## Update weights\n",
    "    for ii in range(num_neurons):\n",
    "        for jj in range(num_neurons):\n",
    "        \n",
    "            ## loop over time bins\n",
    "            timebin_summands = []\n",
    "            for tt in range(num_timebins):\n",
    "                \n",
    "                tt_val = tt / 1000.\n",
    "                \n",
    "                phi = phi_t(X=data, t=tt, t_val=tt_val, tau_val=tau)\n",
    "                phi_squared = phi**2\n",
    "                \n",
    "#                 g_prime_over_g = phi_j_t(X=data, tau_val=tau, t=tt, j=jj, t_val=tt_val) / rho_i_t(u=potentials, v=v, t=tt, i=ii, delta_u=delta_u)\n",
    "                \n",
    "                x_minus_rho = data[ii, tt] - rho_i_t(u=potentials, v=v, t=tt, i=ii, delta_u=delta_u)\n",
    "                \n",
    "#                 phi = phi_j_t(X=data, tau_val=tau_adapt, t=tt, j=jj, t_val=tt_val)\n",
    "                                \n",
    "#                 summand = g_prime_over_g * x_minus_rho * phi\n",
    "                summand = phi_squared * x_minus_rho\n",
    "                timebin_summands.append(summand)\n",
    "                \n",
    "            final_weight = mu_M * np.sum(timebin_summands)\n",
    "            learned_weights[ii, jj] = final_weight\n",
    "            \n",
    "    curr_mse = np.mean((data - np.exp(potentials))**2)\n",
    "    mse_trace.append(curr_mse)\n",
    "    print curr_mse"
   ]
  },
  {
   "cell_type": "code",
   "execution_count": null,
   "metadata": {},
   "outputs": [],
   "source": []
  },
  {
   "cell_type": "code",
   "execution_count": 8,
   "metadata": {},
   "outputs": [
    {
     "data": {
      "text/plain": [
       "[<matplotlib.lines.Line2D at 0x114f03690>]"
      ]
     },
     "execution_count": 8,
     "metadata": {},
     "output_type": "execute_result"
    },
    {
     "data": {
      "image/png": "[encoded data removed]",
      "text/plain": [
       "<matplotlib.figure.Figure at 0x114cd7fd0>"
      ]
     },
     "metadata": {
      "needs_background": "light"
     },
     "output_type": "display_data"
    }
   ],
   "source": [
    "plt.plot(mse_trace)"
   ]
  },
  {
   "cell_type": "code",
   "execution_count": 9,
   "metadata": {},
   "outputs": [
    {
     "data": {
      "text/plain": [
       "<matplotlib.axes._subplots.AxesSubplot at 0x114f1eb50>"
      ]
     },
     "execution_count": 9,
     "metadata": {},
     "output_type": "execute_result"
    },
    {
     "data": {
      "image/png": "[encoded data removed]",
      "text/plain": [
       "<matplotlib.figure.Figure at 0x114b5fe90>"
      ]
     },
     "metadata": {
      "needs_background": "light"
     },
     "output_type": "display_data"
    }
   ],
   "source": [
    "sns.heatmap(learned_weights)"
   ]
  },
  {
   "cell_type": "code",
   "execution_count": null,
   "metadata": {},
   "outputs": [],
   "source": []
  },
  {
   "cell_type": "code",
   "execution_count": 10,
   "metadata": {},
   "outputs": [],
   "source": [
    "## Generate data from learned weights\n",
    "\n",
    "simulated_potentials = np.zeros((num_neurons, num_timebins))\n",
    "## From weight matrix\n",
    "for _ in range(num_iter):\n",
    "    \n",
    "    ## Update membrane potential\n",
    "    for ii in range(num_neurons):\n",
    "        \n",
    "        # loop over time bins\n",
    "        for tt in range(num_timebins):\n",
    "            \n",
    "            tt_val = tt / 1000.\n",
    "            \n",
    "            ## loop over neurons\n",
    "            potential_list = []\n",
    "            for jj in range(num_neurons):\n",
    "                \n",
    "                curr_weight = learned_weights[ii, jj] * phi_j_t(X=data, j=jj, t=tt, t_val=tt_val, tau_val=tau)\n",
    "                potential_list.append(curr_weight)\n",
    "                \n",
    "            simulated_potentials[ii, tt] = np.sum(potential_list) + eta_i_t(X=data, tau_val=tau_adapt, t=tt, t_val=tt_val, i=ii, eta_0=eta_0)"
   ]
  },
  {
   "cell_type": "code",
   "execution_count": 11,
   "metadata": {},
   "outputs": [],
   "source": [
    "poisson_rates = np.zeros((num_neurons, num_timebins))\n",
    "for ii in range(num_neurons):\n",
    "    for tt in range(num_timebins):\n",
    "        poisson_rates[ii, tt] = rho_i_t(delta_u=delta_u, i=ii, t=tt, u=simulated_potentials, v=v)\n"
   ]
  },
  {
   "cell_type": "code",
   "execution_count": 12,
   "metadata": {},
   "outputs": [
    {
     "data": {
      "text/plain": [
       "<matplotlib.axes._subplots.AxesSubplot at 0x11511eb90>"
      ]
     },
     "execution_count": 12,
     "metadata": {},
     "output_type": "execute_result"
    },
    {
     "data": {
      "image/png": "[encoded data removed]",
      "text/plain": [
       "<matplotlib.figure.Figure at 0x115115390>"
      ]
     },
     "metadata": {
      "needs_background": "light"
     },
     "output_type": "display_data"
    }
   ],
   "source": [
    "fig, ax = plt.subplots(figsize=(15,1))\n",
    "sns.heatmap(simulated_potentials)"
   ]
  },
  {
   "cell_type": "code",
   "execution_count": 13,
   "metadata": {},
   "outputs": [
    {
     "data": {
      "text/plain": [
       "<matplotlib.axes._subplots.AxesSubplot at 0x11741ee50>"
      ]
     },
     "execution_count": 13,
     "metadata": {},
     "output_type": "execute_result"
    },
    {
     "data": {
      "image/png": "[encoded data removed]",
      "text/plain": [
       "<matplotlib.figure.Figure at 0x117436790>"
      ]
     },
     "metadata": {
      "needs_background": "light"
     },
     "output_type": "display_data"
    }
   ],
   "source": [
    "fig, ax = plt.subplots(figsize=(15,1))\n",
    "sns.heatmap(poisson_rates)"
   ]
  },
  {
   "cell_type": "code",
   "execution_count": 14,
   "metadata": {},
   "outputs": [
    {
     "data": {
      "image/png": "[encoded data removed]",
      "text/plain": [
       "<matplotlib.figure.Figure at 0x117436990>"
      ]
     },
     "metadata": {
      "needs_background": "light"
     },
     "output_type": "display_data"
    }
   ],
   "source": [
    "simulated_spikes = np.random.poisson(lam=poisson_rates)\n",
    "fig, ax = plt.subplots(figsize=(15,1))\n",
    "sns.heatmap((simulated_spikes >= 1).astype(int))\n",
    "plt.show()"
   ]
  },
  {
   "cell_type": "code",
   "execution_count": 15,
   "metadata": {},
   "outputs": [
    {
     "data": {
      "text/plain": [
       "0.5461279461279461"
      ]
     },
     "execution_count": 15,
     "metadata": {},
     "output_type": "execute_result"
    }
   ],
   "source": [
    "np.mean(simulated_spikes)"
   ]
  },
  {
   "cell_type": "code",
   "execution_count": 16,
   "metadata": {},
   "outputs": [
    {
     "data": {
      "image/png": "[encoded data removed]",
      "text/plain": [
       "<matplotlib.figure.Figure at 0x1178f84d0>"
      ]
     },
     "metadata": {
      "needs_background": "light"
     },
     "output_type": "display_data"
    }
   ],
   "source": [
    "fig, ax = plt.subplots(figsize=(15,7))\n",
    "plt.subplot(3, 1, 1)\n",
    "sns.heatmap(data, xticklabels=False, yticklabels=False)\n",
    "plt.title(\"Observed spikes (data)\")\n",
    "plt.ylabel(\"Neuron\")\n",
    "plt.subplot(3, 1, 2)\n",
    "sns.heatmap(poisson_rates, xticklabels=False, yticklabels=False)\n",
    "plt.title(\"Firing intensities\")\n",
    "plt.ylabel(\"Neuron\")\n",
    "plt.subplot(3, 1, 3)\n",
    "sns.heatmap((simulated_spikes >= 1).astype(int), xticklabels=False, yticklabels=False)\n",
    "plt.title(\"Simulated spikes\")\n",
    "plt.xlabel(\"Timestep\")\n",
    "plt.ylabel(\"Neuron\")\n",
    "plt.savefig(\"/Users/andrewjones/Desktop/firing_rates.png\")\n",
    "plt.show()"
   ]
  },
  {
   "cell_type": "code",
   "execution_count": null,
   "metadata": {},
   "outputs": [],
   "source": []
  },
  {
   "cell_type": "code",
   "execution_count": null,
   "metadata": {},
   "outputs": [],
   "source": []
  },
  {
   "cell_type": "code",
   "execution_count": null,
   "metadata": {},
   "outputs": [],
   "source": []
  }
 ],
 "metadata": {
  "kernelspec": {
   "display_name": "Python 2",
   "language": "python",
   "name": "python2"
  },
  "language_info": {
   "codemirror_mode": {
    "name": "ipython",
    "version": 2
   },
   "file_extension": ".py",
   "mimetype": "text/x-python",
   "name": "python",
   "nbconvert_exporter": "python",
   "pygments_lexer": "ipython2",
   "version": "2.7.13"
  }
 },
 "nbformat": 4,
 "nbformat_minor": 2
}
